{
  "nbformat": 4,
  "nbformat_minor": 0,
  "metadata": {
    "colab": {
      "name": "credit_card_fraud_detection.ipynb",
      "provenance": [],
      "collapsed_sections": []
    },
    "kernelspec": {
      "name": "python3",
      "display_name": "Python 3"
    },
    "language_info": {
      "name": "python"
    }
  },
  "cells": [
    {
      "cell_type": "markdown",
      "source": [
        "# Credit Card Fraud Detection Case Study\n",
        "Credit card fraud is any dishonest act or behaviour to obtain information without the proper authorisation of the account holder for financial gain.Our objective is the detect the fraud transactions.\n"
      ],
      "metadata": {
        "id": "t89zyuACb_k2"
      }
    },
    {
      "cell_type": "markdown",
      "source": [
        "## Overall setps: - \n",
        "### - Importing libraries.\n",
        "### - Reading Dataset.\n",
        "### - Transforming Dataset.\n",
        "### - EDA on Dataset.\n",
        "### - Creating Dummy Variables.\n",
        "### - Model building\n",
        "### - Model Evaluation."
      ],
      "metadata": {
        "id": "TJFVHU-FcmQL"
      }
    },
    {
      "cell_type": "code",
      "execution_count": null,
      "metadata": {
        "id": "EEe4xqFjagpc",
        "colab": {
          "base_uri": "https://localhost:8080/"
        },
        "outputId": "d7123fa6-e2cb-4541-a824-bde8262e1d7c"
      },
      "outputs": [
        {
          "output_type": "stream",
          "name": "stdout",
          "text": [
            "Drive already mounted at /content/drive; to attempt to forcibly remount, call drive.mount(\"/content/drive\", force_remount=True).\n"
          ]
        }
      ],
      "source": [
        "from google.colab import drive\n",
        "drive.mount('/content/drive')"
      ]
    },
    {
      "cell_type": "code",
      "source": [
        "import pandas as pd\n",
        "import numpy as np \n",
        "import matplotlib.pyplot as plt\n",
        "import seaborn as sns\n",
        "import warnings \n",
        "warnings.filterwarnings(\"ignore\")"
      ],
      "metadata": {
        "id": "vCSu79zFbZZC"
      },
      "execution_count": null,
      "outputs": []
    },
    {
      "cell_type": "code",
      "source": [
        "pd.set_option('display.max_columns', None)\n",
        "%matplotlib inline"
      ],
      "metadata": {
        "id": "IbS-BYPfbu3G"
      },
      "execution_count": null,
      "outputs": []
    },
    {
      "cell_type": "code",
      "source": [
        "\n",
        "test_df = pd.read_csv(\"/content/drive/MyDrive/Creadit_card_fraud_detection_project/fraudTest.csv\")\n",
        "train_df = pd.read_csv(\"/content/drive/MyDrive/Creadit_card_fraud_detection_project/fraudTrain.csv\")"
      ],
      "metadata": {
        "id": "-kMATF69at4p"
      },
      "execution_count": null,
      "outputs": []
    },
    {
      "cell_type": "code",
      "source": [
        "train_df.head()"
      ],
      "metadata": {
        "colab": {
          "base_uri": "https://localhost:8080/",
          "height": 565
        },
        "id": "RMeDdAFHbXMD",
        "outputId": "585347e3-71cd-45ba-83ee-e53b1e4d492e"
      },
      "execution_count": null,
      "outputs": [
        {
          "output_type": "execute_result",
          "data": {
            "text/plain": [
              "   Unnamed: 0 trans_date_trans_time            cc_num  \\\n",
              "0           0   2019-01-01 00:00:18  2703186189652095   \n",
              "1           1   2019-01-01 00:00:44      630423337322   \n",
              "2           2   2019-01-01 00:00:51    38859492057661   \n",
              "3           3   2019-01-01 00:01:16  3534093764340240   \n",
              "4           4   2019-01-01 00:03:06   375534208663984   \n",
              "\n",
              "                             merchant       category     amt      first  \\\n",
              "0          fraud_Rippin, Kub and Mann       misc_net    4.97   Jennifer   \n",
              "1     fraud_Heller, Gutmann and Zieme    grocery_pos  107.23  Stephanie   \n",
              "2                fraud_Lind-Buckridge  entertainment  220.11     Edward   \n",
              "3  fraud_Kutch, Hermiston and Farrell  gas_transport   45.00     Jeremy   \n",
              "4                 fraud_Keeling-Crist       misc_pos   41.96      Tyler   \n",
              "\n",
              "      last gender                        street            city state    zip  \\\n",
              "0    Banks      F                561 Perry Cove  Moravian Falls    NC  28654   \n",
              "1     Gill      F  43039 Riley Greens Suite 393          Orient    WA  99160   \n",
              "2  Sanchez      M      594 White Dale Suite 530      Malad City    ID  83252   \n",
              "3    White      M   9443 Cynthia Court Apt. 038         Boulder    MT  59632   \n",
              "4   Garcia      M              408 Bradley Rest        Doe Hill    VA  24433   \n",
              "\n",
              "       lat      long  city_pop                                job         dob  \\\n",
              "0  36.0788  -81.1781      3495          Psychologist, counselling  1988-03-09   \n",
              "1  48.8878 -118.2105       149  Special educational needs teacher  1978-06-21   \n",
              "2  42.1808 -112.2620      4154        Nature conservation officer  1962-01-19   \n",
              "3  46.2306 -112.1138      1939                    Patent attorney  1967-01-12   \n",
              "4  38.4207  -79.4629        99     Dance movement psychotherapist  1986-03-28   \n",
              "\n",
              "                          trans_num   unix_time  merch_lat  merch_long  \\\n",
              "0  0b242abb623afc578575680df30655b9  1325376018  36.011293  -82.048315   \n",
              "1  1f76529f8574734946361c461b024d99  1325376044  49.159047 -118.186462   \n",
              "2  a1a22d70485983eac12b5b88dad1cf95  1325376051  43.150704 -112.154481   \n",
              "3  6b849c168bdad6f867558c3793159a81  1325376076  47.034331 -112.561071   \n",
              "4  a41d7549acf90789359a9aa5346dcb46  1325376186  38.674999  -78.632459   \n",
              "\n",
              "   is_fraud  \n",
              "0         0  \n",
              "1         0  \n",
              "2         0  \n",
              "3         0  \n",
              "4         0  "
            ],
            "text/html": [
              "\n",
              "  <div id=\"df-fe2489e8-f28b-4115-8a62-e6ee39ca9a55\">\n",
              "    <div class=\"colab-df-container\">\n",
              "      <div>\n",
              "<style scoped>\n",
              "    .dataframe tbody tr th:only-of-type {\n",
              "        vertical-align: middle;\n",
              "    }\n",
              "\n",
              "    .dataframe tbody tr th {\n",
              "        vertical-align: top;\n",
              "    }\n",
              "\n",
              "    .dataframe thead th {\n",
              "        text-align: right;\n",
              "    }\n",
              "</style>\n",
              "<table border=\"1\" class=\"dataframe\">\n",
              "  <thead>\n",
              "    <tr style=\"text-align: right;\">\n",
              "      <th></th>\n",
              "      <th>Unnamed: 0</th>\n",
              "      <th>trans_date_trans_time</th>\n",
              "      <th>cc_num</th>\n",
              "      <th>merchant</th>\n",
              "      <th>category</th>\n",
              "      <th>amt</th>\n",
              "      <th>first</th>\n",
              "      <th>last</th>\n",
              "      <th>gender</th>\n",
              "      <th>street</th>\n",
              "      <th>city</th>\n",
              "      <th>state</th>\n",
              "      <th>zip</th>\n",
              "      <th>lat</th>\n",
              "      <th>long</th>\n",
              "      <th>city_pop</th>\n",
              "      <th>job</th>\n",
              "      <th>dob</th>\n",
              "      <th>trans_num</th>\n",
              "      <th>unix_time</th>\n",
              "      <th>merch_lat</th>\n",
              "      <th>merch_long</th>\n",
              "      <th>is_fraud</th>\n",
              "    </tr>\n",
              "  </thead>\n",
              "  <tbody>\n",
              "    <tr>\n",
              "      <th>0</th>\n",
              "      <td>0</td>\n",
              "      <td>2019-01-01 00:00:18</td>\n",
              "      <td>2703186189652095</td>\n",
              "      <td>fraud_Rippin, Kub and Mann</td>\n",
              "      <td>misc_net</td>\n",
              "      <td>4.97</td>\n",
              "      <td>Jennifer</td>\n",
              "      <td>Banks</td>\n",
              "      <td>F</td>\n",
              "      <td>561 Perry Cove</td>\n",
              "      <td>Moravian Falls</td>\n",
              "      <td>NC</td>\n",
              "      <td>28654</td>\n",
              "      <td>36.0788</td>\n",
              "      <td>-81.1781</td>\n",
              "      <td>3495</td>\n",
              "      <td>Psychologist, counselling</td>\n",
              "      <td>1988-03-09</td>\n",
              "      <td>0b242abb623afc578575680df30655b9</td>\n",
              "      <td>1325376018</td>\n",
              "      <td>36.011293</td>\n",
              "      <td>-82.048315</td>\n",
              "      <td>0</td>\n",
              "    </tr>\n",
              "    <tr>\n",
              "      <th>1</th>\n",
              "      <td>1</td>\n",
              "      <td>2019-01-01 00:00:44</td>\n",
              "      <td>630423337322</td>\n",
              "      <td>fraud_Heller, Gutmann and Zieme</td>\n",
              "      <td>grocery_pos</td>\n",
              "      <td>107.23</td>\n",
              "      <td>Stephanie</td>\n",
              "      <td>Gill</td>\n",
              "      <td>F</td>\n",
              "      <td>43039 Riley Greens Suite 393</td>\n",
              "      <td>Orient</td>\n",
              "      <td>WA</td>\n",
              "      <td>99160</td>\n",
              "      <td>48.8878</td>\n",
              "      <td>-118.2105</td>\n",
              "      <td>149</td>\n",
              "      <td>Special educational needs teacher</td>\n",
              "      <td>1978-06-21</td>\n",
              "      <td>1f76529f8574734946361c461b024d99</td>\n",
              "      <td>1325376044</td>\n",
              "      <td>49.159047</td>\n",
              "      <td>-118.186462</td>\n",
              "      <td>0</td>\n",
              "    </tr>\n",
              "    <tr>\n",
              "      <th>2</th>\n",
              "      <td>2</td>\n",
              "      <td>2019-01-01 00:00:51</td>\n",
              "      <td>38859492057661</td>\n",
              "      <td>fraud_Lind-Buckridge</td>\n",
              "      <td>entertainment</td>\n",
              "      <td>220.11</td>\n",
              "      <td>Edward</td>\n",
              "      <td>Sanchez</td>\n",
              "      <td>M</td>\n",
              "      <td>594 White Dale Suite 530</td>\n",
              "      <td>Malad City</td>\n",
              "      <td>ID</td>\n",
              "      <td>83252</td>\n",
              "      <td>42.1808</td>\n",
              "      <td>-112.2620</td>\n",
              "      <td>4154</td>\n",
              "      <td>Nature conservation officer</td>\n",
              "      <td>1962-01-19</td>\n",
              "      <td>a1a22d70485983eac12b5b88dad1cf95</td>\n",
              "      <td>1325376051</td>\n",
              "      <td>43.150704</td>\n",
              "      <td>-112.154481</td>\n",
              "      <td>0</td>\n",
              "    </tr>\n",
              "    <tr>\n",
              "      <th>3</th>\n",
              "      <td>3</td>\n",
              "      <td>2019-01-01 00:01:16</td>\n",
              "      <td>3534093764340240</td>\n",
              "      <td>fraud_Kutch, Hermiston and Farrell</td>\n",
              "      <td>gas_transport</td>\n",
              "      <td>45.00</td>\n",
              "      <td>Jeremy</td>\n",
              "      <td>White</td>\n",
              "      <td>M</td>\n",
              "      <td>9443 Cynthia Court Apt. 038</td>\n",
              "      <td>Boulder</td>\n",
              "      <td>MT</td>\n",
              "      <td>59632</td>\n",
              "      <td>46.2306</td>\n",
              "      <td>-112.1138</td>\n",
              "      <td>1939</td>\n",
              "      <td>Patent attorney</td>\n",
              "      <td>1967-01-12</td>\n",
              "      <td>6b849c168bdad6f867558c3793159a81</td>\n",
              "      <td>1325376076</td>\n",
              "      <td>47.034331</td>\n",
              "      <td>-112.561071</td>\n",
              "      <td>0</td>\n",
              "    </tr>\n",
              "    <tr>\n",
              "      <th>4</th>\n",
              "      <td>4</td>\n",
              "      <td>2019-01-01 00:03:06</td>\n",
              "      <td>375534208663984</td>\n",
              "      <td>fraud_Keeling-Crist</td>\n",
              "      <td>misc_pos</td>\n",
              "      <td>41.96</td>\n",
              "      <td>Tyler</td>\n",
              "      <td>Garcia</td>\n",
              "      <td>M</td>\n",
              "      <td>408 Bradley Rest</td>\n",
              "      <td>Doe Hill</td>\n",
              "      <td>VA</td>\n",
              "      <td>24433</td>\n",
              "      <td>38.4207</td>\n",
              "      <td>-79.4629</td>\n",
              "      <td>99</td>\n",
              "      <td>Dance movement psychotherapist</td>\n",
              "      <td>1986-03-28</td>\n",
              "      <td>a41d7549acf90789359a9aa5346dcb46</td>\n",
              "      <td>1325376186</td>\n",
              "      <td>38.674999</td>\n",
              "      <td>-78.632459</td>\n",
              "      <td>0</td>\n",
              "    </tr>\n",
              "  </tbody>\n",
              "</table>\n",
              "</div>\n",
              "      <button class=\"colab-df-convert\" onclick=\"convertToInteractive('df-fe2489e8-f28b-4115-8a62-e6ee39ca9a55')\"\n",
              "              title=\"Convert this dataframe to an interactive table.\"\n",
              "              style=\"display:none;\">\n",
              "        \n",
              "  <svg xmlns=\"http://www.w3.org/2000/svg\" height=\"24px\"viewBox=\"0 0 24 24\"\n",
              "       width=\"24px\">\n",
              "    <path d=\"M0 0h24v24H0V0z\" fill=\"none\"/>\n",
              "    <path d=\"M18.56 5.44l.94 2.06.94-2.06 2.06-.94-2.06-.94-.94-2.06-.94 2.06-2.06.94zm-11 1L8.5 8.5l.94-2.06 2.06-.94-2.06-.94L8.5 2.5l-.94 2.06-2.06.94zm10 10l.94 2.06.94-2.06 2.06-.94-2.06-.94-.94-2.06-.94 2.06-2.06.94z\"/><path d=\"M17.41 7.96l-1.37-1.37c-.4-.4-.92-.59-1.43-.59-.52 0-1.04.2-1.43.59L10.3 9.45l-7.72 7.72c-.78.78-.78 2.05 0 2.83L4 21.41c.39.39.9.59 1.41.59.51 0 1.02-.2 1.41-.59l7.78-7.78 2.81-2.81c.8-.78.8-2.07 0-2.86zM5.41 20L4 18.59l7.72-7.72 1.47 1.35L5.41 20z\"/>\n",
              "  </svg>\n",
              "      </button>\n",
              "      \n",
              "  <style>\n",
              "    .colab-df-container {\n",
              "      display:flex;\n",
              "      flex-wrap:wrap;\n",
              "      gap: 12px;\n",
              "    }\n",
              "\n",
              "    .colab-df-convert {\n",
              "      background-color: #E8F0FE;\n",
              "      border: none;\n",
              "      border-radius: 50%;\n",
              "      cursor: pointer;\n",
              "      display: none;\n",
              "      fill: #1967D2;\n",
              "      height: 32px;\n",
              "      padding: 0 0 0 0;\n",
              "      width: 32px;\n",
              "    }\n",
              "\n",
              "    .colab-df-convert:hover {\n",
              "      background-color: #E2EBFA;\n",
              "      box-shadow: 0px 1px 2px rgba(60, 64, 67, 0.3), 0px 1px 3px 1px rgba(60, 64, 67, 0.15);\n",
              "      fill: #174EA6;\n",
              "    }\n",
              "\n",
              "    [theme=dark] .colab-df-convert {\n",
              "      background-color: #3B4455;\n",
              "      fill: #D2E3FC;\n",
              "    }\n",
              "\n",
              "    [theme=dark] .colab-df-convert:hover {\n",
              "      background-color: #434B5C;\n",
              "      box-shadow: 0px 1px 3px 1px rgba(0, 0, 0, 0.15);\n",
              "      filter: drop-shadow(0px 1px 2px rgba(0, 0, 0, 0.3));\n",
              "      fill: #FFFFFF;\n",
              "    }\n",
              "  </style>\n",
              "\n",
              "      <script>\n",
              "        const buttonEl =\n",
              "          document.querySelector('#df-fe2489e8-f28b-4115-8a62-e6ee39ca9a55 button.colab-df-convert');\n",
              "        buttonEl.style.display =\n",
              "          google.colab.kernel.accessAllowed ? 'block' : 'none';\n",
              "\n",
              "        async function convertToInteractive(key) {\n",
              "          const element = document.querySelector('#df-fe2489e8-f28b-4115-8a62-e6ee39ca9a55');\n",
              "          const dataTable =\n",
              "            await google.colab.kernel.invokeFunction('convertToInteractive',\n",
              "                                                     [key], {});\n",
              "          if (!dataTable) return;\n",
              "\n",
              "          const docLinkHtml = 'Like what you see? Visit the ' +\n",
              "            '<a target=\"_blank\" href=https://colab.research.google.com/notebooks/data_table.ipynb>data table notebook</a>'\n",
              "            + ' to learn more about interactive tables.';\n",
              "          element.innerHTML = '';\n",
              "          dataTable['output_type'] = 'display_data';\n",
              "          await google.colab.output.renderOutput(dataTable, element);\n",
              "          const docLink = document.createElement('div');\n",
              "          docLink.innerHTML = docLinkHtml;\n",
              "          element.appendChild(docLink);\n",
              "        }\n",
              "      </script>\n",
              "    </div>\n",
              "  </div>\n",
              "  "
            ]
          },
          "metadata": {},
          "execution_count": 6
        }
      ]
    },
    {
      "cell_type": "code",
      "source": [
        "train_df.shape, test_df.shape"
      ],
      "metadata": {
        "colab": {
          "base_uri": "https://localhost:8080/"
        },
        "id": "D2PbZI8FbnSK",
        "outputId": "7f177aeb-69c3-40d6-ab27-c03c36fb213d"
      },
      "execution_count": null,
      "outputs": [
        {
          "output_type": "execute_result",
          "data": {
            "text/plain": [
              "((1296675, 23), (555719, 23))"
            ]
          },
          "metadata": {},
          "execution_count": 7
        }
      ]
    },
    {
      "cell_type": "code",
      "source": [
        "test_df.shape[0]/train_df.shape[0]*100"
      ],
      "metadata": {
        "colab": {
          "base_uri": "https://localhost:8080/"
        },
        "id": "Cs3sxhdJcNY4",
        "outputId": "a2f1da36-0afa-42a7-c372-ad36edac3a8b"
      },
      "execution_count": null,
      "outputs": [
        {
          "output_type": "execute_result",
          "data": {
            "text/plain": [
              "42.85723099465942"
            ]
          },
          "metadata": {},
          "execution_count": 8
        }
      ]
    },
    {
      "cell_type": "markdown",
      "source": [
        "Testing data is almost 43 percent of train dataset."
      ],
      "metadata": {
        "id": "xe5sKyKDcagw"
      }
    },
    {
      "cell_type": "markdown",
      "source": [
        "Lets concat train and test dataset for analysis purpose."
      ],
      "metadata": {
        "id": "9jJc_TRNmt7j"
      }
    },
    {
      "cell_type": "code",
      "source": [
        "total_df = pd.concat([train_df,test_df],axis=0)"
      ],
      "metadata": {
        "id": "fPShCBaQRPDU"
      },
      "execution_count": null,
      "outputs": []
    },
    {
      "cell_type": "code",
      "source": [
        "total_df.shape"
      ],
      "metadata": {
        "colab": {
          "base_uri": "https://localhost:8080/"
        },
        "id": "ViV_lsYoRYRH",
        "outputId": "f05a196e-60f7-423f-f7f1-c309b9078227"
      },
      "execution_count": null,
      "outputs": [
        {
          "output_type": "execute_result",
          "data": {
            "text/plain": [
              "(1852394, 23)"
            ]
          },
          "metadata": {},
          "execution_count": 10
        }
      ]
    },
    {
      "cell_type": "code",
      "source": [
        "total_df.info()"
      ],
      "metadata": {
        "colab": {
          "base_uri": "https://localhost:8080/"
        },
        "id": "la9hUYgCcYxM",
        "outputId": "75cd1ec3-e613-4cac-bd65-4c8731475162"
      },
      "execution_count": null,
      "outputs": [
        {
          "output_type": "stream",
          "name": "stdout",
          "text": [
            "<class 'pandas.core.frame.DataFrame'>\n",
            "Int64Index: 1852394 entries, 0 to 555718\n",
            "Data columns (total 23 columns):\n",
            " #   Column                 Dtype  \n",
            "---  ------                 -----  \n",
            " 0   Unnamed: 0             int64  \n",
            " 1   trans_date_trans_time  object \n",
            " 2   cc_num                 int64  \n",
            " 3   merchant               object \n",
            " 4   category               object \n",
            " 5   amt                    float64\n",
            " 6   first                  object \n",
            " 7   last                   object \n",
            " 8   gender                 object \n",
            " 9   street                 object \n",
            " 10  city                   object \n",
            " 11  state                  object \n",
            " 12  zip                    int64  \n",
            " 13  lat                    float64\n",
            " 14  long                   float64\n",
            " 15  city_pop               int64  \n",
            " 16  job                    object \n",
            " 17  dob                    object \n",
            " 18  trans_num              object \n",
            " 19  unix_time              int64  \n",
            " 20  merch_lat              float64\n",
            " 21  merch_long             float64\n",
            " 22  is_fraud               int64  \n",
            "dtypes: float64(5), int64(6), object(12)\n",
            "memory usage: 339.2+ MB\n"
          ]
        }
      ]
    },
    {
      "cell_type": "markdown",
      "source": [
        "Lets delete unnamed, last,first columns."
      ],
      "metadata": {
        "id": "YZIkQ2gAc2OR"
      }
    },
    {
      "cell_type": "code",
      "source": [
        "total_df= total_df.drop([\"Unnamed: 0\",\"cc_num\",\"first\",\"last\",\"trans_num\",\"unix_time\",\"zip\",\"merchant\"],axis=1)\n"
      ],
      "metadata": {
        "id": "_hf5ohe8cjOv"
      },
      "execution_count": null,
      "outputs": []
    },
    {
      "cell_type": "markdown",
      "source": [
        "We have one datetime column which contain a timestamp data. So first lets convert/get historical data from this feature."
      ],
      "metadata": {
        "id": "z6U5mKkxGkcE"
      }
    },
    {
      "cell_type": "code",
      "source": [
        "total_df.head()"
      ],
      "metadata": {
        "colab": {
          "base_uri": "https://localhost:8080/",
          "height": 337
        },
        "id": "QMg7kYbuGyYl",
        "outputId": "0f4acc6d-21a6-42a2-eac9-cee9d939a7ea"
      },
      "execution_count": null,
      "outputs": [
        {
          "output_type": "execute_result",
          "data": {
            "text/plain": [
              "  trans_date_trans_time       category     amt gender  \\\n",
              "0   2019-01-01 00:00:18       misc_net    4.97      F   \n",
              "1   2019-01-01 00:00:44    grocery_pos  107.23      F   \n",
              "2   2019-01-01 00:00:51  entertainment  220.11      M   \n",
              "3   2019-01-01 00:01:16  gas_transport   45.00      M   \n",
              "4   2019-01-01 00:03:06       misc_pos   41.96      M   \n",
              "\n",
              "                         street            city state      lat      long  \\\n",
              "0                561 Perry Cove  Moravian Falls    NC  36.0788  -81.1781   \n",
              "1  43039 Riley Greens Suite 393          Orient    WA  48.8878 -118.2105   \n",
              "2      594 White Dale Suite 530      Malad City    ID  42.1808 -112.2620   \n",
              "3   9443 Cynthia Court Apt. 038         Boulder    MT  46.2306 -112.1138   \n",
              "4              408 Bradley Rest        Doe Hill    VA  38.4207  -79.4629   \n",
              "\n",
              "   city_pop                                job         dob  merch_lat  \\\n",
              "0      3495          Psychologist, counselling  1988-03-09  36.011293   \n",
              "1       149  Special educational needs teacher  1978-06-21  49.159047   \n",
              "2      4154        Nature conservation officer  1962-01-19  43.150704   \n",
              "3      1939                    Patent attorney  1967-01-12  47.034331   \n",
              "4        99     Dance movement psychotherapist  1986-03-28  38.674999   \n",
              "\n",
              "   merch_long  is_fraud  \n",
              "0  -82.048315         0  \n",
              "1 -118.186462         0  \n",
              "2 -112.154481         0  \n",
              "3 -112.561071         0  \n",
              "4  -78.632459         0  "
            ],
            "text/html": [
              "\n",
              "  <div id=\"df-3456a423-9aa7-49ae-bf10-e9bc3b9554f8\">\n",
              "    <div class=\"colab-df-container\">\n",
              "      <div>\n",
              "<style scoped>\n",
              "    .dataframe tbody tr th:only-of-type {\n",
              "        vertical-align: middle;\n",
              "    }\n",
              "\n",
              "    .dataframe tbody tr th {\n",
              "        vertical-align: top;\n",
              "    }\n",
              "\n",
              "    .dataframe thead th {\n",
              "        text-align: right;\n",
              "    }\n",
              "</style>\n",
              "<table border=\"1\" class=\"dataframe\">\n",
              "  <thead>\n",
              "    <tr style=\"text-align: right;\">\n",
              "      <th></th>\n",
              "      <th>trans_date_trans_time</th>\n",
              "      <th>category</th>\n",
              "      <th>amt</th>\n",
              "      <th>gender</th>\n",
              "      <th>street</th>\n",
              "      <th>city</th>\n",
              "      <th>state</th>\n",
              "      <th>lat</th>\n",
              "      <th>long</th>\n",
              "      <th>city_pop</th>\n",
              "      <th>job</th>\n",
              "      <th>dob</th>\n",
              "      <th>merch_lat</th>\n",
              "      <th>merch_long</th>\n",
              "      <th>is_fraud</th>\n",
              "    </tr>\n",
              "  </thead>\n",
              "  <tbody>\n",
              "    <tr>\n",
              "      <th>0</th>\n",
              "      <td>2019-01-01 00:00:18</td>\n",
              "      <td>misc_net</td>\n",
              "      <td>4.97</td>\n",
              "      <td>F</td>\n",
              "      <td>561 Perry Cove</td>\n",
              "      <td>Moravian Falls</td>\n",
              "      <td>NC</td>\n",
              "      <td>36.0788</td>\n",
              "      <td>-81.1781</td>\n",
              "      <td>3495</td>\n",
              "      <td>Psychologist, counselling</td>\n",
              "      <td>1988-03-09</td>\n",
              "      <td>36.011293</td>\n",
              "      <td>-82.048315</td>\n",
              "      <td>0</td>\n",
              "    </tr>\n",
              "    <tr>\n",
              "      <th>1</th>\n",
              "      <td>2019-01-01 00:00:44</td>\n",
              "      <td>grocery_pos</td>\n",
              "      <td>107.23</td>\n",
              "      <td>F</td>\n",
              "      <td>43039 Riley Greens Suite 393</td>\n",
              "      <td>Orient</td>\n",
              "      <td>WA</td>\n",
              "      <td>48.8878</td>\n",
              "      <td>-118.2105</td>\n",
              "      <td>149</td>\n",
              "      <td>Special educational needs teacher</td>\n",
              "      <td>1978-06-21</td>\n",
              "      <td>49.159047</td>\n",
              "      <td>-118.186462</td>\n",
              "      <td>0</td>\n",
              "    </tr>\n",
              "    <tr>\n",
              "      <th>2</th>\n",
              "      <td>2019-01-01 00:00:51</td>\n",
              "      <td>entertainment</td>\n",
              "      <td>220.11</td>\n",
              "      <td>M</td>\n",
              "      <td>594 White Dale Suite 530</td>\n",
              "      <td>Malad City</td>\n",
              "      <td>ID</td>\n",
              "      <td>42.1808</td>\n",
              "      <td>-112.2620</td>\n",
              "      <td>4154</td>\n",
              "      <td>Nature conservation officer</td>\n",
              "      <td>1962-01-19</td>\n",
              "      <td>43.150704</td>\n",
              "      <td>-112.154481</td>\n",
              "      <td>0</td>\n",
              "    </tr>\n",
              "    <tr>\n",
              "      <th>3</th>\n",
              "      <td>2019-01-01 00:01:16</td>\n",
              "      <td>gas_transport</td>\n",
              "      <td>45.00</td>\n",
              "      <td>M</td>\n",
              "      <td>9443 Cynthia Court Apt. 038</td>\n",
              "      <td>Boulder</td>\n",
              "      <td>MT</td>\n",
              "      <td>46.2306</td>\n",
              "      <td>-112.1138</td>\n",
              "      <td>1939</td>\n",
              "      <td>Patent attorney</td>\n",
              "      <td>1967-01-12</td>\n",
              "      <td>47.034331</td>\n",
              "      <td>-112.561071</td>\n",
              "      <td>0</td>\n",
              "    </tr>\n",
              "    <tr>\n",
              "      <th>4</th>\n",
              "      <td>2019-01-01 00:03:06</td>\n",
              "      <td>misc_pos</td>\n",
              "      <td>41.96</td>\n",
              "      <td>M</td>\n",
              "      <td>408 Bradley Rest</td>\n",
              "      <td>Doe Hill</td>\n",
              "      <td>VA</td>\n",
              "      <td>38.4207</td>\n",
              "      <td>-79.4629</td>\n",
              "      <td>99</td>\n",
              "      <td>Dance movement psychotherapist</td>\n",
              "      <td>1986-03-28</td>\n",
              "      <td>38.674999</td>\n",
              "      <td>-78.632459</td>\n",
              "      <td>0</td>\n",
              "    </tr>\n",
              "  </tbody>\n",
              "</table>\n",
              "</div>\n",
              "      <button class=\"colab-df-convert\" onclick=\"convertToInteractive('df-3456a423-9aa7-49ae-bf10-e9bc3b9554f8')\"\n",
              "              title=\"Convert this dataframe to an interactive table.\"\n",
              "              style=\"display:none;\">\n",
              "        \n",
              "  <svg xmlns=\"http://www.w3.org/2000/svg\" height=\"24px\"viewBox=\"0 0 24 24\"\n",
              "       width=\"24px\">\n",
              "    <path d=\"M0 0h24v24H0V0z\" fill=\"none\"/>\n",
              "    <path d=\"M18.56 5.44l.94 2.06.94-2.06 2.06-.94-2.06-.94-.94-2.06-.94 2.06-2.06.94zm-11 1L8.5 8.5l.94-2.06 2.06-.94-2.06-.94L8.5 2.5l-.94 2.06-2.06.94zm10 10l.94 2.06.94-2.06 2.06-.94-2.06-.94-.94-2.06-.94 2.06-2.06.94z\"/><path d=\"M17.41 7.96l-1.37-1.37c-.4-.4-.92-.59-1.43-.59-.52 0-1.04.2-1.43.59L10.3 9.45l-7.72 7.72c-.78.78-.78 2.05 0 2.83L4 21.41c.39.39.9.59 1.41.59.51 0 1.02-.2 1.41-.59l7.78-7.78 2.81-2.81c.8-.78.8-2.07 0-2.86zM5.41 20L4 18.59l7.72-7.72 1.47 1.35L5.41 20z\"/>\n",
              "  </svg>\n",
              "      </button>\n",
              "      \n",
              "  <style>\n",
              "    .colab-df-container {\n",
              "      display:flex;\n",
              "      flex-wrap:wrap;\n",
              "      gap: 12px;\n",
              "    }\n",
              "\n",
              "    .colab-df-convert {\n",
              "      background-color: #E8F0FE;\n",
              "      border: none;\n",
              "      border-radius: 50%;\n",
              "      cursor: pointer;\n",
              "      display: none;\n",
              "      fill: #1967D2;\n",
              "      height: 32px;\n",
              "      padding: 0 0 0 0;\n",
              "      width: 32px;\n",
              "    }\n",
              "\n",
              "    .colab-df-convert:hover {\n",
              "      background-color: #E2EBFA;\n",
              "      box-shadow: 0px 1px 2px rgba(60, 64, 67, 0.3), 0px 1px 3px 1px rgba(60, 64, 67, 0.15);\n",
              "      fill: #174EA6;\n",
              "    }\n",
              "\n",
              "    [theme=dark] .colab-df-convert {\n",
              "      background-color: #3B4455;\n",
              "      fill: #D2E3FC;\n",
              "    }\n",
              "\n",
              "    [theme=dark] .colab-df-convert:hover {\n",
              "      background-color: #434B5C;\n",
              "      box-shadow: 0px 1px 3px 1px rgba(0, 0, 0, 0.15);\n",
              "      filter: drop-shadow(0px 1px 2px rgba(0, 0, 0, 0.3));\n",
              "      fill: #FFFFFF;\n",
              "    }\n",
              "  </style>\n",
              "\n",
              "      <script>\n",
              "        const buttonEl =\n",
              "          document.querySelector('#df-3456a423-9aa7-49ae-bf10-e9bc3b9554f8 button.colab-df-convert');\n",
              "        buttonEl.style.display =\n",
              "          google.colab.kernel.accessAllowed ? 'block' : 'none';\n",
              "\n",
              "        async function convertToInteractive(key) {\n",
              "          const element = document.querySelector('#df-3456a423-9aa7-49ae-bf10-e9bc3b9554f8');\n",
              "          const dataTable =\n",
              "            await google.colab.kernel.invokeFunction('convertToInteractive',\n",
              "                                                     [key], {});\n",
              "          if (!dataTable) return;\n",
              "\n",
              "          const docLinkHtml = 'Like what you see? Visit the ' +\n",
              "            '<a target=\"_blank\" href=https://colab.research.google.com/notebooks/data_table.ipynb>data table notebook</a>'\n",
              "            + ' to learn more about interactive tables.';\n",
              "          element.innerHTML = '';\n",
              "          dataTable['output_type'] = 'display_data';\n",
              "          await google.colab.output.renderOutput(dataTable, element);\n",
              "          const docLink = document.createElement('div');\n",
              "          docLink.innerHTML = docLinkHtml;\n",
              "          element.appendChild(docLink);\n",
              "        }\n",
              "      </script>\n",
              "    </div>\n",
              "  </div>\n",
              "  "
            ]
          },
          "metadata": {},
          "execution_count": 13
        }
      ]
    },
    {
      "cell_type": "code",
      "source": [
        "total_df[\"trans_date\"] = pd.to_datetime(total_df.trans_date_trans_time).dt.date\n",
        "total_df.drop(\"trans_date_trans_time\",axis=1,inplace=True)\n"
      ],
      "metadata": {
        "id": "pMRViHASGyWy"
      },
      "execution_count": null,
      "outputs": []
    },
    {
      "cell_type": "code",
      "source": [
        "total_df[\"Month\"] = pd.to_datetime(total_df.trans_date).dt.strftime(\"%b\")"
      ],
      "metadata": {
        "id": "nwDs1ZbMS2V6"
      },
      "execution_count": null,
      "outputs": []
    },
    {
      "cell_type": "code",
      "source": [
        "total_df[\"age\"] = pd.to_datetime(total_df.trans_date).dt.year.astype(\"int\") - pd.to_datetime(total_df.dob).dt.year.astype(\"int\")"
      ],
      "metadata": {
        "id": "3-LREadWVnCX"
      },
      "execution_count": null,
      "outputs": []
    },
    {
      "cell_type": "code",
      "source": [
        "filt = total_df[\"is_fraud\"]==1"
      ],
      "metadata": {
        "id": "QxpLWmuIXUxB"
      },
      "execution_count": null,
      "outputs": []
    },
    {
      "cell_type": "markdown",
      "source": [
        "## EDA"
      ],
      "metadata": {
        "id": "yh_XG5cPmB75"
      }
    },
    {
      "cell_type": "markdown",
      "source": [
        "Lets filter only those rows having deteced with fraud trans."
      ],
      "metadata": {
        "id": "X44vKGl0mPRX"
      }
    },
    {
      "cell_type": "code",
      "source": [
        "fraud_df = total_df[filt]"
      ],
      "metadata": {
        "id": "VdztPbVjmBZY"
      },
      "execution_count": null,
      "outputs": []
    },
    {
      "cell_type": "markdown",
      "source": [
        "### Analyzing categorical columns."
      ],
      "metadata": {
        "id": "pkpFr-4am1xO"
      }
    },
    {
      "cell_type": "code",
      "source": [
        "fraud_df.select_dtypes(include=\"O\").describe()"
      ],
      "metadata": {
        "colab": {
          "base_uri": "https://localhost:8080/",
          "height": 175
        },
        "id": "mqLdgjXOStFc",
        "outputId": "af23442f-cdaa-4f93-cd54-babb1ba39f60"
      },
      "execution_count": null,
      "outputs": [
        {
          "output_type": "execute_result",
          "data": {
            "text/plain": [
              "           category gender                         street    city state  \\\n",
              "count          9651   9651                           9651    9651  9651   \n",
              "unique           14      2                            976     887    51   \n",
              "top     grocery_pos      F  5205 Annette Islands Apt. 043  Dallas    NY   \n",
              "freq           2228   4899                             19      39   730   \n",
              "\n",
              "                      job         dob  trans_date Month  \n",
              "count                9651        9651        9651  9651  \n",
              "unique                494         962         677    12  \n",
              "top     Quantity surveyor  1977-03-23  2019-02-25   Mar  \n",
              "freq                   69          31          50   938  "
            ],
            "text/html": [
              "\n",
              "  <div id=\"df-7aac4b67-c16c-4c9b-b929-b8ce1daf6dce\">\n",
              "    <div class=\"colab-df-container\">\n",
              "      <div>\n",
              "<style scoped>\n",
              "    .dataframe tbody tr th:only-of-type {\n",
              "        vertical-align: middle;\n",
              "    }\n",
              "\n",
              "    .dataframe tbody tr th {\n",
              "        vertical-align: top;\n",
              "    }\n",
              "\n",
              "    .dataframe thead th {\n",
              "        text-align: right;\n",
              "    }\n",
              "</style>\n",
              "<table border=\"1\" class=\"dataframe\">\n",
              "  <thead>\n",
              "    <tr style=\"text-align: right;\">\n",
              "      <th></th>\n",
              "      <th>category</th>\n",
              "      <th>gender</th>\n",
              "      <th>street</th>\n",
              "      <th>city</th>\n",
              "      <th>state</th>\n",
              "      <th>job</th>\n",
              "      <th>dob</th>\n",
              "      <th>trans_date</th>\n",
              "      <th>Month</th>\n",
              "    </tr>\n",
              "  </thead>\n",
              "  <tbody>\n",
              "    <tr>\n",
              "      <th>count</th>\n",
              "      <td>9651</td>\n",
              "      <td>9651</td>\n",
              "      <td>9651</td>\n",
              "      <td>9651</td>\n",
              "      <td>9651</td>\n",
              "      <td>9651</td>\n",
              "      <td>9651</td>\n",
              "      <td>9651</td>\n",
              "      <td>9651</td>\n",
              "    </tr>\n",
              "    <tr>\n",
              "      <th>unique</th>\n",
              "      <td>14</td>\n",
              "      <td>2</td>\n",
              "      <td>976</td>\n",
              "      <td>887</td>\n",
              "      <td>51</td>\n",
              "      <td>494</td>\n",
              "      <td>962</td>\n",
              "      <td>677</td>\n",
              "      <td>12</td>\n",
              "    </tr>\n",
              "    <tr>\n",
              "      <th>top</th>\n",
              "      <td>grocery_pos</td>\n",
              "      <td>F</td>\n",
              "      <td>5205 Annette Islands Apt. 043</td>\n",
              "      <td>Dallas</td>\n",
              "      <td>NY</td>\n",
              "      <td>Quantity surveyor</td>\n",
              "      <td>1977-03-23</td>\n",
              "      <td>2019-02-25</td>\n",
              "      <td>Mar</td>\n",
              "    </tr>\n",
              "    <tr>\n",
              "      <th>freq</th>\n",
              "      <td>2228</td>\n",
              "      <td>4899</td>\n",
              "      <td>19</td>\n",
              "      <td>39</td>\n",
              "      <td>730</td>\n",
              "      <td>69</td>\n",
              "      <td>31</td>\n",
              "      <td>50</td>\n",
              "      <td>938</td>\n",
              "    </tr>\n",
              "  </tbody>\n",
              "</table>\n",
              "</div>\n",
              "      <button class=\"colab-df-convert\" onclick=\"convertToInteractive('df-7aac4b67-c16c-4c9b-b929-b8ce1daf6dce')\"\n",
              "              title=\"Convert this dataframe to an interactive table.\"\n",
              "              style=\"display:none;\">\n",
              "        \n",
              "  <svg xmlns=\"http://www.w3.org/2000/svg\" height=\"24px\"viewBox=\"0 0 24 24\"\n",
              "       width=\"24px\">\n",
              "    <path d=\"M0 0h24v24H0V0z\" fill=\"none\"/>\n",
              "    <path d=\"M18.56 5.44l.94 2.06.94-2.06 2.06-.94-2.06-.94-.94-2.06-.94 2.06-2.06.94zm-11 1L8.5 8.5l.94-2.06 2.06-.94-2.06-.94L8.5 2.5l-.94 2.06-2.06.94zm10 10l.94 2.06.94-2.06 2.06-.94-2.06-.94-.94-2.06-.94 2.06-2.06.94z\"/><path d=\"M17.41 7.96l-1.37-1.37c-.4-.4-.92-.59-1.43-.59-.52 0-1.04.2-1.43.59L10.3 9.45l-7.72 7.72c-.78.78-.78 2.05 0 2.83L4 21.41c.39.39.9.59 1.41.59.51 0 1.02-.2 1.41-.59l7.78-7.78 2.81-2.81c.8-.78.8-2.07 0-2.86zM5.41 20L4 18.59l7.72-7.72 1.47 1.35L5.41 20z\"/>\n",
              "  </svg>\n",
              "      </button>\n",
              "      \n",
              "  <style>\n",
              "    .colab-df-container {\n",
              "      display:flex;\n",
              "      flex-wrap:wrap;\n",
              "      gap: 12px;\n",
              "    }\n",
              "\n",
              "    .colab-df-convert {\n",
              "      background-color: #E8F0FE;\n",
              "      border: none;\n",
              "      border-radius: 50%;\n",
              "      cursor: pointer;\n",
              "      display: none;\n",
              "      fill: #1967D2;\n",
              "      height: 32px;\n",
              "      padding: 0 0 0 0;\n",
              "      width: 32px;\n",
              "    }\n",
              "\n",
              "    .colab-df-convert:hover {\n",
              "      background-color: #E2EBFA;\n",
              "      box-shadow: 0px 1px 2px rgba(60, 64, 67, 0.3), 0px 1px 3px 1px rgba(60, 64, 67, 0.15);\n",
              "      fill: #174EA6;\n",
              "    }\n",
              "\n",
              "    [theme=dark] .colab-df-convert {\n",
              "      background-color: #3B4455;\n",
              "      fill: #D2E3FC;\n",
              "    }\n",
              "\n",
              "    [theme=dark] .colab-df-convert:hover {\n",
              "      background-color: #434B5C;\n",
              "      box-shadow: 0px 1px 3px 1px rgba(0, 0, 0, 0.15);\n",
              "      filter: drop-shadow(0px 1px 2px rgba(0, 0, 0, 0.3));\n",
              "      fill: #FFFFFF;\n",
              "    }\n",
              "  </style>\n",
              "\n",
              "      <script>\n",
              "        const buttonEl =\n",
              "          document.querySelector('#df-7aac4b67-c16c-4c9b-b929-b8ce1daf6dce button.colab-df-convert');\n",
              "        buttonEl.style.display =\n",
              "          google.colab.kernel.accessAllowed ? 'block' : 'none';\n",
              "\n",
              "        async function convertToInteractive(key) {\n",
              "          const element = document.querySelector('#df-7aac4b67-c16c-4c9b-b929-b8ce1daf6dce');\n",
              "          const dataTable =\n",
              "            await google.colab.kernel.invokeFunction('convertToInteractive',\n",
              "                                                     [key], {});\n",
              "          if (!dataTable) return;\n",
              "\n",
              "          const docLinkHtml = 'Like what you see? Visit the ' +\n",
              "            '<a target=\"_blank\" href=https://colab.research.google.com/notebooks/data_table.ipynb>data table notebook</a>'\n",
              "            + ' to learn more about interactive tables.';\n",
              "          element.innerHTML = '';\n",
              "          dataTable['output_type'] = 'display_data';\n",
              "          await google.colab.output.renderOutput(dataTable, element);\n",
              "          const docLink = document.createElement('div');\n",
              "          docLink.innerHTML = docLinkHtml;\n",
              "          element.appendChild(docLink);\n",
              "        }\n",
              "      </script>\n",
              "    </div>\n",
              "  </div>\n",
              "  "
            ]
          },
          "metadata": {},
          "execution_count": 19
        }
      ]
    },
    {
      "cell_type": "markdown",
      "source": [
        "Some infrences: - \n",
        "- Most frauds occured in grocery_pos category.\n",
        "- Females are most frauded gender.\n",
        "- Newyork state being a developed and smart city counts up for the most fraud cases.\n",
        "- Qualoty surveyor the person who maintains and cast cost for construction companies has top count in fruad cases based on job."
      ],
      "metadata": {
        "id": "czzP052hnFHM"
      }
    },
    {
      "cell_type": "code",
      "source": [
        "sns.countplot(fraud_df.category)\n",
        "plt.xticks(rotation=90)\n",
        "plt.show()"
      ],
      "metadata": {
        "id": "3q18jQWcSs5n",
        "colab": {
          "base_uri": "https://localhost:8080/",
          "height": 341
        },
        "outputId": "e910958c-5b2b-48fc-9716-d16167712ab3"
      },
      "execution_count": null,
      "outputs": [
        {
          "output_type": "display_data",
          "data": {
            "text/plain": [
              "<Figure size 432x288 with 1 Axes>"
            ],
            "image/png": "[encoded data removed]"
          },
          "metadata": {
            "needs_background": "light"
          }
        }
      ]
    },
    {
      "cell_type": "markdown",
      "source": [
        "grocery_pos and shopping_net are most fraudulant categories."
      ],
      "metadata": {
        "id": "LgduHOw73Q2m"
      }
    },
    {
      "cell_type": "code",
      "source": [
        "sns.countplot(fraud_df.gender)\n",
        "plt.xticks(rotation=90)\n",
        "plt.show()"
      ],
      "metadata": {
        "id": "rgh2NvaWSs3i",
        "colab": {
          "base_uri": "https://localhost:8080/",
          "height": 278
        },
        "outputId": "1c522e87-60a4-48a8-cd83-7817af71fa8c"
      },
      "execution_count": null,
      "outputs": [
        {
          "output_type": "display_data",
          "data": {
            "text/plain": [
              "<Figure size 432x288 with 1 Axes>"
            ],
            "image/png": "[encoded data removed]"
          },
          "metadata": {
            "needs_background": "light"
          }
        }
      ]
    },
    {
      "cell_type": "markdown",
      "source": [
        "Females have credited most fraud transactions altough there is not much difference between the magniture of male and female fraud counts."
      ],
      "metadata": {
        "id": "tlztN-V43it2"
      }
    },
    {
      "cell_type": "code",
      "source": [
        "fig, ax = plt.subplots(figsize=(120,60))\n",
        "plt.rcParams.update({'font.size': 60})\n",
        "sns.countplot(fraud_df.state)\n",
        "plt.xticks(rotation=45)\n",
        "for p, label in zip(ax.patches, fraud_df[\"state\"].value_counts().index):\n",
        "    ax.annotate(label, (p.get_x(), p.get_height()+0.15))\n",
        "plt.title(\"Number of Credit Card Frauds by State\")\n",
        "plt.show()"
      ],
      "metadata": {
        "colab": {
          "base_uri": "https://localhost:8080/",
          "height": 726
        },
        "id": "k53B6xJF35On",
        "outputId": "dd9073f3-21cd-444d-f3ec-a54a8195e74e"
      },
      "execution_count": null,
      "outputs": [
        {
          "output_type": "display_data",
          "data": {
            "text/plain": [
              "<Figure size 8640x4320 with 1 Axes>"
            ],
            "image/png": "[encoded data removed]"
          },
          "metadata": {
            "needs_background": "light"
          }
        }
      ]
    },
    {
      "cell_type": "markdown",
      "source": [
        "MN State has highest number of fraud cases."
      ],
      "metadata": {
        "id": "qE2N9ACZDfNA"
      }
    },
    {
      "cell_type": "code",
      "source": [
        "plt.rcParams.update(plt.rcParamsDefault)\n",
        "fraud_df[\"city\"].value_counts(sort=True,ascending=False).head(10).plot(kind=\"bar\")\n",
        "plt.show()"
      ],
      "metadata": {
        "id": "CCpUgh4035M3",
        "colab": {
          "base_uri": "https://localhost:8080/",
          "height": 511
        },
        "outputId": "a8949051-2854-4517-bf58-9d5e814a75d3"
      },
      "execution_count": null,
      "outputs": [
        {
          "output_type": "display_data",
          "data": {
            "text/plain": [
              "<Figure size 640x480 with 1 Axes>"
            ],
            "image/png": "[encoded data removed]"
          },
          "metadata": {}
        }
      ]
    },
    {
      "cell_type": "code",
      "source": [
        "fraud_df[\"job\"].value_counts(sort=True,ascending=False).head(10).plot(kind=\"bar\")\n",
        "plt.show()"
      ],
      "metadata": {
        "id": "OowwE8rC35KF",
        "colab": {
          "base_uri": "https://localhost:8080/",
          "height": 671
        },
        "outputId": "22eaec81-63b5-4c3d-a623-293f6822889b"
      },
      "execution_count": null,
      "outputs": [
        {
          "output_type": "display_data",
          "data": {
            "text/plain": [
              "<Figure size 640x480 with 1 Axes>"
            ],
            "image/png": "[encoded data removed]"
          },
          "metadata": {}
        }
      ]
    },
    {
      "cell_type": "markdown",
      "source": [
        "Top 3 counts in fraudulant job column are related to construction."
      ],
      "metadata": {
        "id": "Wie_P66wFOl_"
      }
    },
    {
      "cell_type": "code",
      "source": [
        "sns.countplot(fraud_df.Month)\n",
        "plt.show()"
      ],
      "metadata": {
        "id": "5yN51Jcp35IM",
        "colab": {
          "base_uri": "https://localhost:8080/",
          "height": 449
        },
        "outputId": "d8c8dd6a-6922-4a63-aea6-ea60373c7e7b"
      },
      "execution_count": null,
      "outputs": [
        {
          "output_type": "display_data",
          "data": {
            "text/plain": [
              "<Figure size 640x480 with 1 Axes>"
            ],
            "image/png": "[encoded data removed]"
          },
          "metadata": {}
        }
      ]
    },
    {
      "cell_type": "markdown",
      "source": [
        "visualizing numerical variable."
      ],
      "metadata": {
        "id": "VN9byTHQGUKL"
      }
    },
    {
      "cell_type": "code",
      "source": [
        "fraud_df.describe(exclude=\"O\")"
      ],
      "metadata": {
        "id": "StF0oK4h35E3",
        "colab": {
          "base_uri": "https://localhost:8080/",
          "height": 300
        },
        "outputId": "5b62f0cc-77a9-4a99-c693-80b0be0ef338"
      },
      "execution_count": null,
      "outputs": [
        {
          "output_type": "execute_result",
          "data": {
            "text/plain": [
              "               amt          lat         long      city_pop    merch_lat  \\\n",
              "count  9651.000000  9651.000000  9651.000000  9.651000e+03  9651.000000   \n",
              "mean    530.661412    38.742813   -90.033730  8.999842e+04    38.734962   \n",
              "std     391.028873     5.153060    14.250246  3.062833e+05     5.192904   \n",
              "min       1.060000    20.027100  -165.672300  2.300000e+01    19.161782   \n",
              "25%     240.075000    35.042850   -96.727000  7.950000e+02    35.087441   \n",
              "50%     390.000000    39.537000   -87.043600  2.693000e+03    39.516424   \n",
              "75%     902.365000    42.076500   -79.940300  1.905400e+04    42.043486   \n",
              "max    1376.040000    66.693300   -67.950300  2.906700e+06    67.510267   \n",
              "\n",
              "        merch_long  is_fraud          age  \n",
              "count  9651.000000    9651.0  9651.000000  \n",
              "mean    -90.037919       1.0    48.837841  \n",
              "std      14.268910       0.0    18.587263  \n",
              "min    -166.550779       1.0    14.000000  \n",
              "25%     -96.678370       1.0    33.000000  \n",
              "50%     -87.167538       1.0    48.000000  \n",
              "75%     -79.907350       1.0    61.000000  \n",
              "max     -66.960745       1.0    96.000000  "
            ],
            "text/html": [
              "\n",
              "  <div id=\"df-8806e083-ac5b-4d09-8fbe-6b8c62c5a316\">\n",
              "    <div class=\"colab-df-container\">\n",
              "      <div>\n",
              "<style scoped>\n",
              "    .dataframe tbody tr th:only-of-type {\n",
              "        vertical-align: middle;\n",
              "    }\n",
              "\n",
              "    .dataframe tbody tr th {\n",
              "        vertical-align: top;\n",
              "    }\n",
              "\n",
              "    .dataframe thead th {\n",
              "        text-align: right;\n",
              "    }\n",
              "</style>\n",
              "<table border=\"1\" class=\"dataframe\">\n",
              "  <thead>\n",
              "    <tr style=\"text-align: right;\">\n",
              "      <th></th>\n",
              "      <th>amt</th>\n",
              "      <th>lat</th>\n",
              "      <th>long</th>\n",
              "      <th>city_pop</th>\n",
              "      <th>merch_lat</th>\n",
              "      <th>merch_long</th>\n",
              "      <th>is_fraud</th>\n",
              "      <th>age</th>\n",
              "    </tr>\n",
              "  </thead>\n",
              "  <tbody>\n",
              "    <tr>\n",
              "      <th>count</th>\n",
              "      <td>9651.000000</td>\n",
              "      <td>9651.000000</td>\n",
              "      <td>9651.000000</td>\n",
              "      <td>9.651000e+03</td>\n",
              "      <td>9651.000000</td>\n",
              "      <td>9651.000000</td>\n",
              "      <td>9651.0</td>\n",
              "      <td>9651.000000</td>\n",
              "    </tr>\n",
              "    <tr>\n",
              "      <th>mean</th>\n",
              "      <td>530.661412</td>\n",
              "      <td>38.742813</td>\n",
              "      <td>-90.033730</td>\n",
              "      <td>8.999842e+04</td>\n",
              "      <td>38.734962</td>\n",
              "      <td>-90.037919</td>\n",
              "      <td>1.0</td>\n",
              "      <td>48.837841</td>\n",
              "    </tr>\n",
              "    <tr>\n",
              "      <th>std</th>\n",
              "      <td>391.028873</td>\n",
              "      <td>5.153060</td>\n",
              "      <td>14.250246</td>\n",
              "      <td>3.062833e+05</td>\n",
              "      <td>5.192904</td>\n",
              "      <td>14.268910</td>\n",
              "      <td>0.0</td>\n",
              "      <td>18.587263</td>\n",
              "    </tr>\n",
              "    <tr>\n",
              "      <th>min</th>\n",
              "      <td>1.060000</td>\n",
              "      <td>20.027100</td>\n",
              "      <td>-165.672300</td>\n",
              "      <td>2.300000e+01</td>\n",
              "      <td>19.161782</td>\n",
              "      <td>-166.550779</td>\n",
              "      <td>1.0</td>\n",
              "      <td>14.000000</td>\n",
              "    </tr>\n",
              "    <tr>\n",
              "      <th>25%</th>\n",
              "      <td>240.075000</td>\n",
              "      <td>35.042850</td>\n",
              "      <td>-96.727000</td>\n",
              "      <td>7.950000e+02</td>\n",
              "      <td>35.087441</td>\n",
              "      <td>-96.678370</td>\n",
              "      <td>1.0</td>\n",
              "      <td>33.000000</td>\n",
              "    </tr>\n",
              "    <tr>\n",
              "      <th>50%</th>\n",
              "      <td>390.000000</td>\n",
              "      <td>39.537000</td>\n",
              "      <td>-87.043600</td>\n",
              "      <td>2.693000e+03</td>\n",
              "      <td>39.516424</td>\n",
              "      <td>-87.167538</td>\n",
              "      <td>1.0</td>\n",
              "      <td>48.000000</td>\n",
              "    </tr>\n",
              "    <tr>\n",
              "      <th>75%</th>\n",
              "      <td>902.365000</td>\n",
              "      <td>42.076500</td>\n",
              "      <td>-79.940300</td>\n",
              "      <td>1.905400e+04</td>\n",
              "      <td>42.043486</td>\n",
              "      <td>-79.907350</td>\n",
              "      <td>1.0</td>\n",
              "      <td>61.000000</td>\n",
              "    </tr>\n",
              "    <tr>\n",
              "      <th>max</th>\n",
              "      <td>1376.040000</td>\n",
              "      <td>66.693300</td>\n",
              "      <td>-67.950300</td>\n",
              "      <td>2.906700e+06</td>\n",
              "      <td>67.510267</td>\n",
              "      <td>-66.960745</td>\n",
              "      <td>1.0</td>\n",
              "      <td>96.000000</td>\n",
              "    </tr>\n",
              "  </tbody>\n",
              "</table>\n",
              "</div>\n",
              "      <button class=\"colab-df-convert\" onclick=\"convertToInteractive('df-8806e083-ac5b-4d09-8fbe-6b8c62c5a316')\"\n",
              "              title=\"Convert this dataframe to an interactive table.\"\n",
              "              style=\"display:none;\">\n",
              "        \n",
              "  <svg xmlns=\"http://www.w3.org/2000/svg\" height=\"24px\"viewBox=\"0 0 24 24\"\n",
              "       width=\"24px\">\n",
              "    <path d=\"M0 0h24v24H0V0z\" fill=\"none\"/>\n",
              "    <path d=\"M18.56 5.44l.94 2.06.94-2.06 2.06-.94-2.06-.94-.94-2.06-.94 2.06-2.06.94zm-11 1L8.5 8.5l.94-2.06 2.06-.94-2.06-.94L8.5 2.5l-.94 2.06-2.06.94zm10 10l.94 2.06.94-2.06 2.06-.94-2.06-.94-.94-2.06-.94 2.06-2.06.94z\"/><path d=\"M17.41 7.96l-1.37-1.37c-.4-.4-.92-.59-1.43-.59-.52 0-1.04.2-1.43.59L10.3 9.45l-7.72 7.72c-.78.78-.78 2.05 0 2.83L4 21.41c.39.39.9.59 1.41.59.51 0 1.02-.2 1.41-.59l7.78-7.78 2.81-2.81c.8-.78.8-2.07 0-2.86zM5.41 20L4 18.59l7.72-7.72 1.47 1.35L5.41 20z\"/>\n",
              "  </svg>\n",
              "      </button>\n",
              "      \n",
              "  <style>\n",
              "    .colab-df-container {\n",
              "      display:flex;\n",
              "      flex-wrap:wrap;\n",
              "      gap: 12px;\n",
              "    }\n",
              "\n",
              "    .colab-df-convert {\n",
              "      background-color: #E8F0FE;\n",
              "      border: none;\n",
              "      border-radius: 50%;\n",
              "      cursor: pointer;\n",
              "      display: none;\n",
              "      fill: #1967D2;\n",
              "      height: 32px;\n",
              "      padding: 0 0 0 0;\n",
              "      width: 32px;\n",
              "    }\n",
              "\n",
              "    .colab-df-convert:hover {\n",
              "      background-color: #E2EBFA;\n",
              "      box-shadow: 0px 1px 2px rgba(60, 64, 67, 0.3), 0px 1px 3px 1px rgba(60, 64, 67, 0.15);\n",
              "      fill: #174EA6;\n",
              "    }\n",
              "\n",
              "    [theme=dark] .colab-df-convert {\n",
              "      background-color: #3B4455;\n",
              "      fill: #D2E3FC;\n",
              "    }\n",
              "\n",
              "    [theme=dark] .colab-df-convert:hover {\n",
              "      background-color: #434B5C;\n",
              "      box-shadow: 0px 1px 3px 1px rgba(0, 0, 0, 0.15);\n",
              "      filter: drop-shadow(0px 1px 2px rgba(0, 0, 0, 0.3));\n",
              "      fill: #FFFFFF;\n",
              "    }\n",
              "  </style>\n",
              "\n",
              "      <script>\n",
              "        const buttonEl =\n",
              "          document.querySelector('#df-8806e083-ac5b-4d09-8fbe-6b8c62c5a316 button.colab-df-convert');\n",
              "        buttonEl.style.display =\n",
              "          google.colab.kernel.accessAllowed ? 'block' : 'none';\n",
              "\n",
              "        async function convertToInteractive(key) {\n",
              "          const element = document.querySelector('#df-8806e083-ac5b-4d09-8fbe-6b8c62c5a316');\n",
              "          const dataTable =\n",
              "            await google.colab.kernel.invokeFunction('convertToInteractive',\n",
              "                                                     [key], {});\n",
              "          if (!dataTable) return;\n",
              "\n",
              "          const docLinkHtml = 'Like what you see? Visit the ' +\n",
              "            '<a target=\"_blank\" href=https://colab.research.google.com/notebooks/data_table.ipynb>data table notebook</a>'\n",
              "            + ' to learn more about interactive tables.';\n",
              "          element.innerHTML = '';\n",
              "          dataTable['output_type'] = 'display_data';\n",
              "          await google.colab.output.renderOutput(dataTable, element);\n",
              "          const docLink = document.createElement('div');\n",
              "          docLink.innerHTML = docLinkHtml;\n",
              "          element.appendChild(docLink);\n",
              "        }\n",
              "      </script>\n",
              "    </div>\n",
              "  </div>\n",
              "  "
            ]
          },
          "metadata": {},
          "execution_count": 26
        }
      ]
    },
    {
      "cell_type": "code",
      "source": [
        "fig, ax = plt.subplots()\n",
        "ax.hist(fraud_df.age, edgecolor = \"black\", bins = 5)\n",
        "\n",
        "plt.show()"
      ],
      "metadata": {
        "id": "RxO1UyIP35C6",
        "colab": {
          "base_uri": "https://localhost:8080/",
          "height": 430
        },
        "outputId": "662534fa-75ff-4d8e-a46e-5a9f2694fa06"
      },
      "execution_count": null,
      "outputs": [
        {
          "output_type": "display_data",
          "data": {
            "text/plain": [
              "<Figure size 640x480 with 1 Axes>"
            ],
            "image/png": "[encoded data removed]"
          },
          "metadata": {}
        }
      ]
    },
    {
      "cell_type": "code",
      "source": [
        "fig, ax = plt.subplots()\n",
        "ax.hist(fraud_df.lat, edgecolor = \"black\", bins = 5)\n",
        "\n",
        "plt.show()"
      ],
      "metadata": {
        "id": "hDacd7JU349V",
        "colab": {
          "base_uri": "https://localhost:8080/",
          "height": 430
        },
        "outputId": "644ef8e0-21a0-4622-d0ed-898f40d53597"
      },
      "execution_count": null,
      "outputs": [
        {
          "output_type": "display_data",
          "data": {
            "text/plain": [
              "<Figure size 640x480 with 1 Axes>"
            ],
            "image/png": "[encoded data removed]"
          },
          "metadata": {}
        }
      ]
    },
    {
      "cell_type": "code",
      "source": [
        "fig, ax = plt.subplots()\n",
        "ax.hist(fraud_df.long, edgecolor = \"black\", bins = 5)\n",
        "\n",
        "plt.show()"
      ],
      "metadata": {
        "id": "BeOiD3u0345k",
        "colab": {
          "base_uri": "https://localhost:8080/",
          "height": 430
        },
        "outputId": "a20d03bd-4718-4a64-8c40-7911961fbaac"
      },
      "execution_count": null,
      "outputs": [
        {
          "output_type": "display_data",
          "data": {
            "text/plain": [
              "<Figure size 640x480 with 1 Axes>"
            ],
            "image/png": "[encoded data removed]"
          },
          "metadata": {}
        }
      ]
    },
    {
      "cell_type": "code",
      "source": [
        "from scipy.stats import norm, skew"
      ],
      "metadata": {
        "id": "uaxyZMBbJ2us"
      },
      "execution_count": null,
      "outputs": []
    },
    {
      "cell_type": "code",
      "source": [
        "sns.distplot(fraud_df.amt,fit = norm)\n",
        "plt.title(\"skewness of {} column is : - {}\".format(\"amt\",str(skew(fraud_df.amt))))\n",
        "plt.show()"
      ],
      "metadata": {
        "id": "WTQv3wZj343u",
        "colab": {
          "base_uri": "https://localhost:8080/",
          "height": 472
        },
        "outputId": "d42e2d6e-f7eb-4f10-92c7-38a4c6d5092b"
      },
      "execution_count": null,
      "outputs": [
        {
          "output_type": "display_data",
          "data": {
            "text/plain": [
              "<Figure size 640x480 with 1 Axes>"
            ],
            "image/png": "[encoded data removed]"
          },
          "metadata": {}
        }
      ]
    },
    {
      "cell_type": "markdown",
      "source": [
        "Distribution is not perfact normal. some peaks are formed in groups. data is normally disctibuted in patch of around 600 to 1250 amount range."
      ],
      "metadata": {
        "id": "OpcgZ2k3Kx1z"
      }
    },
    {
      "cell_type": "code",
      "source": [
        "sns.distplot(fraud_df.city_pop,fit = norm)\n",
        "plt.title(\"skewness of {} column is : - {}\".format(\"popullation\",str(skew(fraud_df.amt))))\n",
        "plt.show()"
      ],
      "metadata": {
        "colab": {
          "base_uri": "https://localhost:8080/",
          "height": 472
        },
        "id": "eKGmKYmULPCa",
        "outputId": "1d39a830-2d5a-4cf6-f6bf-d7d1487d908b"
      },
      "execution_count": null,
      "outputs": [
        {
          "output_type": "display_data",
          "data": {
            "text/plain": [
              "<Figure size 640x480 with 1 Axes>"
            ],
            "image/png": "[encoded data removed]"
          },
          "metadata": {}
        }
      ]
    },
    {
      "cell_type": "markdown",
      "source": [
        "Finally after understaing the pattern of each column lets drop few columns which are not neccesary for our analysis."
      ],
      "metadata": {
        "id": "l-0w-AodNawd"
      }
    },
    {
      "cell_type": "code",
      "source": [
        "fraud_df.columns"
      ],
      "metadata": {
        "colab": {
          "base_uri": "https://localhost:8080/"
        },
        "id": "eeTZQfGXLO8O",
        "outputId": "8da16a59-407a-4a61-ba11-c717b46be633"
      },
      "execution_count": null,
      "outputs": [
        {
          "output_type": "execute_result",
          "data": {
            "text/plain": [
              "Index(['category', 'amt', 'gender', 'street', 'city', 'state', 'lat', 'long',\n",
              "       'city_pop', 'job', 'dob', 'merch_lat', 'merch_long', 'is_fraud',\n",
              "       'trans_date', 'Month', 'age'],\n",
              "      dtype='object')"
            ]
          },
          "metadata": {},
          "execution_count": 33
        }
      ]
    },
    {
      "cell_type": "code",
      "source": [
        "total_df.drop(['city','lat','long','merch_lat','merch_long',\"state\",\"job\",\"dob\"],inplace=True,axis=1)"
      ],
      "metadata": {
        "id": "XWGfusEULO6D"
      },
      "execution_count": null,
      "outputs": []
    },
    {
      "cell_type": "code",
      "source": [
        "total_df.drop(\"street\",axis=1,inplace=True)"
      ],
      "metadata": {
        "id": "rCkzDlIOPtMv"
      },
      "execution_count": null,
      "outputs": []
    },
    {
      "cell_type": "markdown",
      "source": [
        "### Creating dummy variables."
      ],
      "metadata": {
        "id": "BXNalrotOi_J"
      }
    },
    {
      "cell_type": "code",
      "source": [
        "total_df[\"gender\"] = total_df[\"gender\"].map({\"M\":1,\"F\":0})"
      ],
      "metadata": {
        "id": "xu6sTqRZOuUI"
      },
      "execution_count": null,
      "outputs": []
    },
    {
      "cell_type": "code",
      "source": [
        "total_df[\"Month\"]=pd.to_datetime(total_df[\"trans_date\"]).dt.month"
      ],
      "metadata": {
        "id": "V2kn0docOtei"
      },
      "execution_count": null,
      "outputs": []
    },
    {
      "cell_type": "code",
      "source": [
        "total_df[\"Year\"] = pd.to_datetime(total_df[\"trans_date\"]).dt.year"
      ],
      "metadata": {
        "id": "nxhl4LpgOtax"
      },
      "execution_count": null,
      "outputs": []
    },
    {
      "cell_type": "code",
      "source": [
        "total_df[\"Year\"] = total_df[\"Year\"].map({2019:0,2020:1})"
      ],
      "metadata": {
        "id": "yjpJQCAHUdQw"
      },
      "execution_count": null,
      "outputs": []
    },
    {
      "cell_type": "code",
      "source": [
        "total_df.drop(\"trans_date\",axis=1,inplace=True)"
      ],
      "metadata": {
        "id": "khpR1Db6UWUw"
      },
      "execution_count": null,
      "outputs": []
    },
    {
      "cell_type": "code",
      "source": [
        "total_df.head()"
      ],
      "metadata": {
        "colab": {
          "base_uri": "https://localhost:8080/",
          "height": 206
        },
        "id": "Z5ZzRV3jUdOe",
        "outputId": "d7ed2c7c-9631-4634-d07d-38b5dc53f7d1"
      },
      "execution_count": null,
      "outputs": [
        {
          "output_type": "execute_result",
          "data": {
            "text/plain": [
              "        category     amt  gender  city_pop  is_fraud  Month  age  Year\n",
              "0       misc_net    4.97       0      3495         0      1   31     0\n",
              "1    grocery_pos  107.23       0       149         0      1   41     0\n",
              "2  entertainment  220.11       1      4154         0      1   57     0\n",
              "3  gas_transport   45.00       1      1939         0      1   52     0\n",
              "4       misc_pos   41.96       1        99         0      1   33     0"
            ],
            "text/html": [
              "\n",
              "  <div id=\"df-15cdc0eb-39b1-4f69-b1b8-21d06b97651d\">\n",
              "    <div class=\"colab-df-container\">\n",
              "      <div>\n",
              "<style scoped>\n",
              "    .dataframe tbody tr th:only-of-type {\n",
              "        vertical-align: middle;\n",
              "    }\n",
              "\n",
              "    .dataframe tbody tr th {\n",
              "        vertical-align: top;\n",
              "    }\n",
              "\n",
              "    .dataframe thead th {\n",
              "        text-align: right;\n",
              "    }\n",
              "</style>\n",
              "<table border=\"1\" class=\"dataframe\">\n",
              "  <thead>\n",
              "    <tr style=\"text-align: right;\">\n",
              "      <th></th>\n",
              "      <th>category</th>\n",
              "      <th>amt</th>\n",
              "      <th>gender</th>\n",
              "      <th>city_pop</th>\n",
              "      <th>is_fraud</th>\n",
              "      <th>Month</th>\n",
              "      <th>age</th>\n",
              "      <th>Year</th>\n",
              "    </tr>\n",
              "  </thead>\n",
              "  <tbody>\n",
              "    <tr>\n",
              "      <th>0</th>\n",
              "      <td>misc_net</td>\n",
              "      <td>4.97</td>\n",
              "      <td>0</td>\n",
              "      <td>3495</td>\n",
              "      <td>0</td>\n",
              "      <td>1</td>\n",
              "      <td>31</td>\n",
              "      <td>0</td>\n",
              "    </tr>\n",
              "    <tr>\n",
              "      <th>1</th>\n",
              "      <td>grocery_pos</td>\n",
              "      <td>107.23</td>\n",
              "      <td>0</td>\n",
              "      <td>149</td>\n",
              "      <td>0</td>\n",
              "      <td>1</td>\n",
              "      <td>41</td>\n",
              "      <td>0</td>\n",
              "    </tr>\n",
              "    <tr>\n",
              "      <th>2</th>\n",
              "      <td>entertainment</td>\n",
              "      <td>220.11</td>\n",
              "      <td>1</td>\n",
              "      <td>4154</td>\n",
              "      <td>0</td>\n",
              "      <td>1</td>\n",
              "      <td>57</td>\n",
              "      <td>0</td>\n",
              "    </tr>\n",
              "    <tr>\n",
              "      <th>3</th>\n",
              "      <td>gas_transport</td>\n",
              "      <td>45.00</td>\n",
              "      <td>1</td>\n",
              "      <td>1939</td>\n",
              "      <td>0</td>\n",
              "      <td>1</td>\n",
              "      <td>52</td>\n",
              "      <td>0</td>\n",
              "    </tr>\n",
              "    <tr>\n",
              "      <th>4</th>\n",
              "      <td>misc_pos</td>\n",
              "      <td>41.96</td>\n",
              "      <td>1</td>\n",
              "      <td>99</td>\n",
              "      <td>0</td>\n",
              "      <td>1</td>\n",
              "      <td>33</td>\n",
              "      <td>0</td>\n",
              "    </tr>\n",
              "  </tbody>\n",
              "</table>\n",
              "</div>\n",
              "      <button class=\"colab-df-convert\" onclick=\"convertToInteractive('df-15cdc0eb-39b1-4f69-b1b8-21d06b97651d')\"\n",
              "              title=\"Convert this dataframe to an interactive table.\"\n",
              "              style=\"display:none;\">\n",
              "        \n",
              "  <svg xmlns=\"http://www.w3.org/2000/svg\" height=\"24px\"viewBox=\"0 0 24 24\"\n",
              "       width=\"24px\">\n",
              "    <path d=\"M0 0h24v24H0V0z\" fill=\"none\"/>\n",
              "    <path d=\"M18.56 5.44l.94 2.06.94-2.06 2.06-.94-2.06-.94-.94-2.06-.94 2.06-2.06.94zm-11 1L8.5 8.5l.94-2.06 2.06-.94-2.06-.94L8.5 2.5l-.94 2.06-2.06.94zm10 10l.94 2.06.94-2.06 2.06-.94-2.06-.94-.94-2.06-.94 2.06-2.06.94z\"/><path d=\"M17.41 7.96l-1.37-1.37c-.4-.4-.92-.59-1.43-.59-.52 0-1.04.2-1.43.59L10.3 9.45l-7.72 7.72c-.78.78-.78 2.05 0 2.83L4 21.41c.39.39.9.59 1.41.59.51 0 1.02-.2 1.41-.59l7.78-7.78 2.81-2.81c.8-.78.8-2.07 0-2.86zM5.41 20L4 18.59l7.72-7.72 1.47 1.35L5.41 20z\"/>\n",
              "  </svg>\n",
              "      </button>\n",
              "      \n",
              "  <style>\n",
              "    .colab-df-container {\n",
              "      display:flex;\n",
              "      flex-wrap:wrap;\n",
              "      gap: 12px;\n",
              "    }\n",
              "\n",
              "    .colab-df-convert {\n",
              "      background-color: #E8F0FE;\n",
              "      border: none;\n",
              "      border-radius: 50%;\n",
              "      cursor: pointer;\n",
              "      display: none;\n",
              "      fill: #1967D2;\n",
              "      height: 32px;\n",
              "      padding: 0 0 0 0;\n",
              "      width: 32px;\n",
              "    }\n",
              "\n",
              "    .colab-df-convert:hover {\n",
              "      background-color: #E2EBFA;\n",
              "      box-shadow: 0px 1px 2px rgba(60, 64, 67, 0.3), 0px 1px 3px 1px rgba(60, 64, 67, 0.15);\n",
              "      fill: #174EA6;\n",
              "    }\n",
              "\n",
              "    [theme=dark] .colab-df-convert {\n",
              "      background-color: #3B4455;\n",
              "      fill: #D2E3FC;\n",
              "    }\n",
              "\n",
              "    [theme=dark] .colab-df-convert:hover {\n",
              "      background-color: #434B5C;\n",
              "      box-shadow: 0px 1px 3px 1px rgba(0, 0, 0, 0.15);\n",
              "      filter: drop-shadow(0px 1px 2px rgba(0, 0, 0, 0.3));\n",
              "      fill: #FFFFFF;\n",
              "    }\n",
              "  </style>\n",
              "\n",
              "      <script>\n",
              "        const buttonEl =\n",
              "          document.querySelector('#df-15cdc0eb-39b1-4f69-b1b8-21d06b97651d button.colab-df-convert');\n",
              "        buttonEl.style.display =\n",
              "          google.colab.kernel.accessAllowed ? 'block' : 'none';\n",
              "\n",
              "        async function convertToInteractive(key) {\n",
              "          const element = document.querySelector('#df-15cdc0eb-39b1-4f69-b1b8-21d06b97651d');\n",
              "          const dataTable =\n",
              "            await google.colab.kernel.invokeFunction('convertToInteractive',\n",
              "                                                     [key], {});\n",
              "          if (!dataTable) return;\n",
              "\n",
              "          const docLinkHtml = 'Like what you see? Visit the ' +\n",
              "            '<a target=\"_blank\" href=https://colab.research.google.com/notebooks/data_table.ipynb>data table notebook</a>'\n",
              "            + ' to learn more about interactive tables.';\n",
              "          element.innerHTML = '';\n",
              "          dataTable['output_type'] = 'display_data';\n",
              "          await google.colab.output.renderOutput(dataTable, element);\n",
              "          const docLink = document.createElement('div');\n",
              "          docLink.innerHTML = docLinkHtml;\n",
              "          element.appendChild(docLink);\n",
              "        }\n",
              "      </script>\n",
              "    </div>\n",
              "  </div>\n",
              "  "
            ]
          },
          "metadata": {},
          "execution_count": 41
        }
      ]
    },
    {
      "cell_type": "code",
      "source": [
        "cat_dummy = pd.get_dummies(total_df.category,drop_first=True)"
      ],
      "metadata": {
        "id": "pFPNn1itUdK7"
      },
      "execution_count": null,
      "outputs": []
    },
    {
      "cell_type": "code",
      "source": [
        "card_fraud_df = pd.concat([total_df.drop(\"category\",axis=1),cat_dummy],axis=1)"
      ],
      "metadata": {
        "id": "WjO-LVghUdI4"
      },
      "execution_count": null,
      "outputs": []
    },
    {
      "cell_type": "code",
      "source": [
        "card_fraud_df.shape"
      ],
      "metadata": {
        "colab": {
          "base_uri": "https://localhost:8080/"
        },
        "id": "2dqu2Z79Uc2K",
        "outputId": "f0b67f41-cfcc-4ece-873e-2bbc0c7d5b90"
      },
      "execution_count": null,
      "outputs": [
        {
          "output_type": "execute_result",
          "data": {
            "text/plain": [
              "(1852394, 20)"
            ]
          },
          "metadata": {},
          "execution_count": 44
        }
      ]
    },
    {
      "cell_type": "code",
      "source": [
        "import collections"
      ],
      "metadata": {
        "id": "oqbO8NmX9pyW"
      },
      "execution_count": null,
      "outputs": []
    },
    {
      "cell_type": "code",
      "source": [
        "collections.Counter(train_df[\"is_fraud\"])"
      ],
      "metadata": {
        "colab": {
          "base_uri": "https://localhost:8080/"
        },
        "id": "FRzRP7t396LB",
        "outputId": "5eadc206-ac87-4874-e426-4a94830d6ff6"
      },
      "execution_count": null,
      "outputs": [
        {
          "output_type": "execute_result",
          "data": {
            "text/plain": [
              "Counter({0: 1289169, 1: 7506})"
            ]
          },
          "metadata": {},
          "execution_count": 46
        }
      ]
    },
    {
      "cell_type": "markdown",
      "source": [
        "We can see there is huge difference between the number of observations available for zero and that for one. \n",
        "thus it creates an imblance in the dataset. which is very bad for our classification model.\n",
        "So we will first work to make this class balance."
      ],
      "metadata": {
        "id": "itgvWjAGvTbH"
      }
    },
    {
      "cell_type": "markdown",
      "source": [
        "There are several techniques used for eradicating class imbalance in machine learning.\n",
        "So for our project i am going to use undersampling method which will help use to pick out equal number of rows to minority class from majority class. "
      ],
      "metadata": {
        "id": "Bt3ycSDavkI8"
      }
    },
    {
      "cell_type": "markdown",
      "source": [
        "### Handling Imbalance."
      ],
      "metadata": {
        "id": "sdHa_6BEZPU5"
      }
    },
    {
      "cell_type": "code",
      "source": [
        "from imblearn.under_sampling import NearMiss"
      ],
      "metadata": {
        "id": "0aLm4xuNu2gG"
      },
      "execution_count": null,
      "outputs": []
    },
    {
      "cell_type": "code",
      "source": [
        "\n",
        "resample = NearMiss()"
      ],
      "metadata": {
        "id": "bNL4QvZu9HwP"
      },
      "execution_count": null,
      "outputs": []
    },
    {
      "cell_type": "code",
      "source": [
        "X = card_fraud_df.drop(\"is_fraud\",axis=1)\n",
        "y = card_fraud_df[\"is_fraud\"]"
      ],
      "metadata": {
        "id": "HFhjz1V29lHR"
      },
      "execution_count": null,
      "outputs": []
    },
    {
      "cell_type": "code",
      "source": [
        "x_data,y_data = resample.fit_resample(X, y)"
      ],
      "metadata": {
        "id": "jgI27MAx_vND"
      },
      "execution_count": null,
      "outputs": []
    },
    {
      "cell_type": "code",
      "source": [
        "x_data.shape, y_data.shape"
      ],
      "metadata": {
        "colab": {
          "base_uri": "https://localhost:8080/"
        },
        "id": "pHl2ZbNWWUi7",
        "outputId": "01cbc8e3-303d-4add-b7d9-1acea984b96a"
      },
      "execution_count": null,
      "outputs": [
        {
          "output_type": "execute_result",
          "data": {
            "text/plain": [
              "((19302, 19), (19302,))"
            ]
          },
          "metadata": {},
          "execution_count": 51
        }
      ]
    },
    {
      "cell_type": "code",
      "source": [
        "x_data.head()"
      ],
      "metadata": {
        "colab": {
          "base_uri": "https://localhost:8080/",
          "height": 270
        },
        "id": "dGwwJgNFXpI4",
        "outputId": "3e9e0d42-c30c-4b4e-934d-62e72330acb8"
      },
      "execution_count": null,
      "outputs": [
        {
          "output_type": "execute_result",
          "data": {
            "text/plain": [
              "     amt  gender  city_pop  Month  age  Year  food_dining  gas_transport  \\\n",
              "0   9.40       0      5719      8   26     1            0              0   \n",
              "1   8.54       0      2526     11   49     0            0              0   \n",
              "2  18.28       0     18128      8   29     0            0              0   \n",
              "3   8.54       0     11256     12   48     1            0              0   \n",
              "4  18.71       0      1213      2   28     0            0              0   \n",
              "\n",
              "   grocery_net  grocery_pos  health_fitness  home  kids_pets  misc_net  \\\n",
              "0            0            0               0     0          0         0   \n",
              "1            0            0               0     0          0         0   \n",
              "2            0            0               0     0          1         0   \n",
              "3            0            0               0     0          0         0   \n",
              "4            0            0               0     0          1         0   \n",
              "\n",
              "   misc_pos  personal_care  shopping_net  shopping_pos  travel  \n",
              "0         1              0             0             0       0  \n",
              "1         1              0             0             0       0  \n",
              "2         0              0             0             0       0  \n",
              "3         1              0             0             0       0  \n",
              "4         0              0             0             0       0  "
            ],
            "text/html": [
              "\n",
              "  <div id=\"df-6c61f705-06d6-453d-a692-409906118f17\">\n",
              "    <div class=\"colab-df-container\">\n",
              "      <div>\n",
              "<style scoped>\n",
              "    .dataframe tbody tr th:only-of-type {\n",
              "        vertical-align: middle;\n",
              "    }\n",
              "\n",
              "    .dataframe tbody tr th {\n",
              "        vertical-align: top;\n",
              "    }\n",
              "\n",
              "    .dataframe thead th {\n",
              "        text-align: right;\n",
              "    }\n",
              "</style>\n",
              "<table border=\"1\" class=\"dataframe\">\n",
              "  <thead>\n",
              "    <tr style=\"text-align: right;\">\n",
              "      <th></th>\n",
              "      <th>amt</th>\n",
              "      <th>gender</th>\n",
              "      <th>city_pop</th>\n",
              "      <th>Month</th>\n",
              "      <th>age</th>\n",
              "      <th>Year</th>\n",
              "      <th>food_dining</th>\n",
              "      <th>gas_transport</th>\n",
              "      <th>grocery_net</th>\n",
              "      <th>grocery_pos</th>\n",
              "      <th>health_fitness</th>\n",
              "      <th>home</th>\n",
              "      <th>kids_pets</th>\n",
              "      <th>misc_net</th>\n",
              "      <th>misc_pos</th>\n",
              "      <th>personal_care</th>\n",
              "      <th>shopping_net</th>\n",
              "      <th>shopping_pos</th>\n",
              "      <th>travel</th>\n",
              "    </tr>\n",
              "  </thead>\n",
              "  <tbody>\n",
              "    <tr>\n",
              "      <th>0</th>\n",
              "      <td>9.40</td>\n",
              "      <td>0</td>\n",
              "      <td>5719</td>\n",
              "      <td>8</td>\n",
              "      <td>26</td>\n",
              "      <td>1</td>\n",
              "      <td>0</td>\n",
              "      <td>0</td>\n",
              "      <td>0</td>\n",
              "      <td>0</td>\n",
              "      <td>0</td>\n",
              "      <td>0</td>\n",
              "      <td>0</td>\n",
              "      <td>0</td>\n",
              "      <td>1</td>\n",
              "      <td>0</td>\n",
              "      <td>0</td>\n",
              "      <td>0</td>\n",
              "      <td>0</td>\n",
              "    </tr>\n",
              "    <tr>\n",
              "      <th>1</th>\n",
              "      <td>8.54</td>\n",
              "      <td>0</td>\n",
              "      <td>2526</td>\n",
              "      <td>11</td>\n",
              "      <td>49</td>\n",
              "      <td>0</td>\n",
              "      <td>0</td>\n",
              "      <td>0</td>\n",
              "      <td>0</td>\n",
              "      <td>0</td>\n",
              "      <td>0</td>\n",
              "      <td>0</td>\n",
              "      <td>0</td>\n",
              "      <td>0</td>\n",
              "      <td>1</td>\n",
              "      <td>0</td>\n",
              "      <td>0</td>\n",
              "      <td>0</td>\n",
              "      <td>0</td>\n",
              "    </tr>\n",
              "    <tr>\n",
              "      <th>2</th>\n",
              "      <td>18.28</td>\n",
              "      <td>0</td>\n",
              "      <td>18128</td>\n",
              "      <td>8</td>\n",
              "      <td>29</td>\n",
              "      <td>0</td>\n",
              "      <td>0</td>\n",
              "      <td>0</td>\n",
              "      <td>0</td>\n",
              "      <td>0</td>\n",
              "      <td>0</td>\n",
              "      <td>0</td>\n",
              "      <td>1</td>\n",
              "      <td>0</td>\n",
              "      <td>0</td>\n",
              "      <td>0</td>\n",
              "      <td>0</td>\n",
              "      <td>0</td>\n",
              "      <td>0</td>\n",
              "    </tr>\n",
              "    <tr>\n",
              "      <th>3</th>\n",
              "      <td>8.54</td>\n",
              "      <td>0</td>\n",
              "      <td>11256</td>\n",
              "      <td>12</td>\n",
              "      <td>48</td>\n",
              "      <td>1</td>\n",
              "      <td>0</td>\n",
              "      <td>0</td>\n",
              "      <td>0</td>\n",
              "      <td>0</td>\n",
              "      <td>0</td>\n",
              "      <td>0</td>\n",
              "      <td>0</td>\n",
              "      <td>0</td>\n",
              "      <td>1</td>\n",
              "      <td>0</td>\n",
              "      <td>0</td>\n",
              "      <td>0</td>\n",
              "      <td>0</td>\n",
              "    </tr>\n",
              "    <tr>\n",
              "      <th>4</th>\n",
              "      <td>18.71</td>\n",
              "      <td>0</td>\n",
              "      <td>1213</td>\n",
              "      <td>2</td>\n",
              "      <td>28</td>\n",
              "      <td>0</td>\n",
              "      <td>0</td>\n",
              "      <td>0</td>\n",
              "      <td>0</td>\n",
              "      <td>0</td>\n",
              "      <td>0</td>\n",
              "      <td>0</td>\n",
              "      <td>1</td>\n",
              "      <td>0</td>\n",
              "      <td>0</td>\n",
              "      <td>0</td>\n",
              "      <td>0</td>\n",
              "      <td>0</td>\n",
              "      <td>0</td>\n",
              "    </tr>\n",
              "  </tbody>\n",
              "</table>\n",
              "</div>\n",
              "      <button class=\"colab-df-convert\" onclick=\"convertToInteractive('df-6c61f705-06d6-453d-a692-409906118f17')\"\n",
              "              title=\"Convert this dataframe to an interactive table.\"\n",
              "              style=\"display:none;\">\n",
              "        \n",
              "  <svg xmlns=\"http://www.w3.org/2000/svg\" height=\"24px\"viewBox=\"0 0 24 24\"\n",
              "       width=\"24px\">\n",
              "    <path d=\"M0 0h24v24H0V0z\" fill=\"none\"/>\n",
              "    <path d=\"M18.56 5.44l.94 2.06.94-2.06 2.06-.94-2.06-.94-.94-2.06-.94 2.06-2.06.94zm-11 1L8.5 8.5l.94-2.06 2.06-.94-2.06-.94L8.5 2.5l-.94 2.06-2.06.94zm10 10l.94 2.06.94-2.06 2.06-.94-2.06-.94-.94-2.06-.94 2.06-2.06.94z\"/><path d=\"M17.41 7.96l-1.37-1.37c-.4-.4-.92-.59-1.43-.59-.52 0-1.04.2-1.43.59L10.3 9.45l-7.72 7.72c-.78.78-.78 2.05 0 2.83L4 21.41c.39.39.9.59 1.41.59.51 0 1.02-.2 1.41-.59l7.78-7.78 2.81-2.81c.8-.78.8-2.07 0-2.86zM5.41 20L4 18.59l7.72-7.72 1.47 1.35L5.41 20z\"/>\n",
              "  </svg>\n",
              "      </button>\n",
              "      \n",
              "  <style>\n",
              "    .colab-df-container {\n",
              "      display:flex;\n",
              "      flex-wrap:wrap;\n",
              "      gap: 12px;\n",
              "    }\n",
              "\n",
              "    .colab-df-convert {\n",
              "      background-color: #E8F0FE;\n",
              "      border: none;\n",
              "      border-radius: 50%;\n",
              "      cursor: pointer;\n",
              "      display: none;\n",
              "      fill: #1967D2;\n",
              "      height: 32px;\n",
              "      padding: 0 0 0 0;\n",
              "      width: 32px;\n",
              "    }\n",
              "\n",
              "    .colab-df-convert:hover {\n",
              "      background-color: #E2EBFA;\n",
              "      box-shadow: 0px 1px 2px rgba(60, 64, 67, 0.3), 0px 1px 3px 1px rgba(60, 64, 67, 0.15);\n",
              "      fill: #174EA6;\n",
              "    }\n",
              "\n",
              "    [theme=dark] .colab-df-convert {\n",
              "      background-color: #3B4455;\n",
              "      fill: #D2E3FC;\n",
              "    }\n",
              "\n",
              "    [theme=dark] .colab-df-convert:hover {\n",
              "      background-color: #434B5C;\n",
              "      box-shadow: 0px 1px 3px 1px rgba(0, 0, 0, 0.15);\n",
              "      filter: drop-shadow(0px 1px 2px rgba(0, 0, 0, 0.3));\n",
              "      fill: #FFFFFF;\n",
              "    }\n",
              "  </style>\n",
              "\n",
              "      <script>\n",
              "        const buttonEl =\n",
              "          document.querySelector('#df-6c61f705-06d6-453d-a692-409906118f17 button.colab-df-convert');\n",
              "        buttonEl.style.display =\n",
              "          google.colab.kernel.accessAllowed ? 'block' : 'none';\n",
              "\n",
              "        async function convertToInteractive(key) {\n",
              "          const element = document.querySelector('#df-6c61f705-06d6-453d-a692-409906118f17');\n",
              "          const dataTable =\n",
              "            await google.colab.kernel.invokeFunction('convertToInteractive',\n",
              "                                                     [key], {});\n",
              "          if (!dataTable) return;\n",
              "\n",
              "          const docLinkHtml = 'Like what you see? Visit the ' +\n",
              "            '<a target=\"_blank\" href=https://colab.research.google.com/notebooks/data_table.ipynb>data table notebook</a>'\n",
              "            + ' to learn more about interactive tables.';\n",
              "          element.innerHTML = '';\n",
              "          dataTable['output_type'] = 'display_data';\n",
              "          await google.colab.output.renderOutput(dataTable, element);\n",
              "          const docLink = document.createElement('div');\n",
              "          docLink.innerHTML = docLinkHtml;\n",
              "          element.appendChild(docLink);\n",
              "        }\n",
              "      </script>\n",
              "    </div>\n",
              "  </div>\n",
              "  "
            ]
          },
          "metadata": {},
          "execution_count": 52
        }
      ]
    },
    {
      "cell_type": "markdown",
      "source": [
        "## Splting dataset."
      ],
      "metadata": {
        "id": "js72IJReZUHB"
      }
    },
    {
      "cell_type": "code",
      "source": [
        "from sklearn.model_selection import train_test_split"
      ],
      "metadata": {
        "id": "MCE_XrehX1vi"
      },
      "execution_count": null,
      "outputs": []
    },
    {
      "cell_type": "code",
      "source": [
        "x_train,x_test,y_train,y_test = train_test_split(x_data,y_data,test_size = 0.4285723099465942,random_state=42)"
      ],
      "metadata": {
        "id": "z4SfDAP_Ye4H"
      },
      "execution_count": null,
      "outputs": []
    },
    {
      "cell_type": "markdown",
      "source": [
        "Since our dataset has values with different magnitue we need to scale the data."
      ],
      "metadata": {
        "id": "byhSGernaLwH"
      }
    },
    {
      "cell_type": "code",
      "source": [
        "from sklearn.preprocessing import StandardScaler\n"
      ],
      "metadata": {
        "id": "9vOb5JBKaUnz"
      },
      "execution_count": null,
      "outputs": []
    },
    {
      "cell_type": "code",
      "source": [
        "scaler = StandardScaler()"
      ],
      "metadata": {
        "id": "husO2ZO8aUZQ"
      },
      "execution_count": null,
      "outputs": []
    },
    {
      "cell_type": "code",
      "source": [
        "x_train_scaled = pd.DataFrame(scaler.fit_transform(x_train),columns=list(x_train.columns))"
      ],
      "metadata": {
        "id": "n579fmBSa84W"
      },
      "execution_count": null,
      "outputs": []
    },
    {
      "cell_type": "code",
      "source": [
        "x_test_scaled = pd.DataFrame(scaler.fit_transform(x_test),columns=list(x_test.columns))"
      ],
      "metadata": {
        "id": "FGr2B7dca80_"
      },
      "execution_count": null,
      "outputs": []
    },
    {
      "cell_type": "code",
      "source": [
        "plt.figure(figsize=(15,10))\n",
        "sns.heatmap(x_train.corr())"
      ],
      "metadata": {
        "id": "YHQxXMisa8yt",
        "colab": {
          "base_uri": "https://localhost:8080/",
          "height": 936
        },
        "outputId": "0283e2d5-6ca9-49bb-948b-c44d90982a98"
      },
      "execution_count": null,
      "outputs": [
        {
          "output_type": "execute_result",
          "data": {
            "text/plain": [
              "<matplotlib.axes._subplots.AxesSubplot at 0x7fb45ea19bd0>"
            ]
          },
          "metadata": {},
          "execution_count": 59
        },
        {
          "output_type": "display_data",
          "data": {
            "text/plain": [
              "<Figure size 1500x1000 with 2 Axes>"
            ],
            "image/png": "[encoded data removed]"
          },
          "metadata": {}
        }
      ]
    },
    {
      "cell_type": "markdown",
      "source": [
        "## Creating Model"
      ],
      "metadata": {
        "id": "79dFBVpAZWZl"
      }
    },
    {
      "cell_type": "markdown",
      "source": [
        "We are starting with linear model."
      ],
      "metadata": {
        "id": "r8uJDqs1ZZNJ"
      }
    },
    {
      "cell_type": "code",
      "source": [
        "from sklearn.linear_model import LogisticRegression\n",
        "from sklearn.metrics import accuracy_score"
      ],
      "metadata": {
        "id": "624bXxXEY9J7"
      },
      "execution_count": null,
      "outputs": []
    },
    {
      "cell_type": "code",
      "source": [
        "logreg = LogisticRegression()"
      ],
      "metadata": {
        "id": "iYNPWqr0ZH3H"
      },
      "execution_count": null,
      "outputs": []
    },
    {
      "cell_type": "code",
      "source": [
        "logreg.fit(x_train_scaled,y_train)"
      ],
      "metadata": {
        "colab": {
          "base_uri": "https://localhost:8080/"
        },
        "id": "tHJdjN1PZKNS",
        "outputId": "ec2bf6cb-f13e-4fcd-c7dc-fb9b453b6b15"
      },
      "execution_count": null,
      "outputs": [
        {
          "output_type": "execute_result",
          "data": {
            "text/plain": [
              "LogisticRegression()"
            ]
          },
          "metadata": {},
          "execution_count": 62
        }
      ]
    },
    {
      "cell_type": "code",
      "source": [
        "y_pred_train = logreg.predict(x_train_scaled)"
      ],
      "metadata": {
        "id": "q2k6zO696uRo"
      },
      "execution_count": null,
      "outputs": []
    },
    {
      "cell_type": "code",
      "source": [
        "y_pred_test = logreg.predict(x_test_scaled)"
      ],
      "metadata": {
        "id": "0xGCdJwp6ubN"
      },
      "execution_count": null,
      "outputs": []
    },
    {
      "cell_type": "code",
      "source": [
        "print(\"overall model score for train data without any tuning in the model is {}\".format(logreg.score(x_train_scaled,y_train)))\n",
        "print(\"-----------------------------------------------------------------------------------------\")\n",
        "print(\"overall model score for test data without any tuning in the model is {}\".format(logreg.score(x_test_scaled,y_test)))\n",
        "print(\"-----------------------------------------------------------------------------------------\")"
      ],
      "metadata": {
        "id": "fcR7ai1nbp8n",
        "colab": {
          "base_uri": "https://localhost:8080/"
        },
        "outputId": "13172536-3290-4bbe-a629-4d8d1fe14577"
      },
      "execution_count": null,
      "outputs": [
        {
          "output_type": "stream",
          "name": "stdout",
          "text": [
            "overall model score for train data without any tuning in the model is 0.9358056034091939\n",
            "-----------------------------------------------------------------------------------------\n",
            "overall model score for test data without any tuning in the model is 0.9327934243926025\n",
            "-----------------------------------------------------------------------------------------\n"
          ]
        }
      ]
    },
    {
      "cell_type": "code",
      "source": [
        "import statsmodels.api as sm"
      ],
      "metadata": {
        "id": "pX3G4DfyYYOx"
      },
      "execution_count": null,
      "outputs": []
    },
    {
      "cell_type": "code",
      "source": [
        "from sklearn.feature_selection import RFE\n",
        "rfe = RFE(logreg)           \n",
        "rfe = rfe.fit(x_train, y_train)"
      ],
      "metadata": {
        "id": "xWQSeTdAYxk_"
      },
      "execution_count": null,
      "outputs": []
    },
    {
      "cell_type": "code",
      "source": [
        "list(zip(x_train_scaled.columns,rfe.support_,rfe.ranking_))"
      ],
      "metadata": {
        "colab": {
          "base_uri": "https://localhost:8080/"
        },
        "id": "RSkTJI7BYxgy",
        "outputId": "f761f5db-8c6a-4d1e-892d-8b2f75b4d0fb"
      },
      "execution_count": null,
      "outputs": [
        {
          "output_type": "execute_result",
          "data": {
            "text/plain": [
              "[('amt', False, 9),\n",
              " ('gender', False, 4),\n",
              " ('city_pop', False, 11),\n",
              " ('Month', False, 8),\n",
              " ('age', False, 10),\n",
              " ('Year', False, 3),\n",
              " ('food_dining', True, 1),\n",
              " ('gas_transport', True, 1),\n",
              " ('grocery_net', True, 1),\n",
              " ('grocery_pos', True, 1),\n",
              " ('health_fitness', True, 1),\n",
              " ('home', False, 5),\n",
              " ('kids_pets', False, 7),\n",
              " ('misc_net', True, 1),\n",
              " ('misc_pos', False, 6),\n",
              " ('personal_care', False, 2),\n",
              " ('shopping_net', True, 1),\n",
              " ('shopping_pos', True, 1),\n",
              " ('travel', True, 1)]"
            ]
          },
          "metadata": {},
          "execution_count": 68
        }
      ]
    },
    {
      "cell_type": "code",
      "source": [
        "new_cols =x_train_scaled.columns[~rfe.support_]"
      ],
      "metadata": {
        "id": "7MO7W0ClbaGn"
      },
      "execution_count": null,
      "outputs": []
    },
    {
      "cell_type": "code",
      "source": [
        "x_train_1  = x_train_scaled[new_cols]\n",
        "x_test_1 = x_test_scaled[new_cols]"
      ],
      "metadata": {
        "id": "PZyVl7GYbjt9"
      },
      "execution_count": null,
      "outputs": []
    },
    {
      "cell_type": "code",
      "source": [
        "x_train_1.head()"
      ],
      "metadata": {
        "colab": {
          "base_uri": "https://localhost:8080/",
          "height": 206
        },
        "id": "dAa4khxBbjqh",
        "outputId": "e2189044-328b-4d7d-9d3b-53b88e022a24"
      },
      "execution_count": null,
      "outputs": [
        {
          "output_type": "execute_result",
          "data": {
            "text/plain": [
              "        amt    gender  city_pop     Month       age      Year      home  \\\n",
              "0 -0.700951  1.159999 -0.285096 -0.776509  0.085307 -0.966382 -0.249434   \n",
              "1 -0.666413 -0.862070 -0.293767 -0.471812 -0.647007 -0.966382 -0.249434   \n",
              "2  0.155265 -0.862070 -0.294433  0.137582  0.254303 -0.966382 -0.249434   \n",
              "3 -0.699323  1.159999 -0.271255  0.137582  0.648626 -0.966382 -0.249434   \n",
              "4  2.387784  1.159999 -0.292617  1.661068 -1.210326  1.034787 -0.249434   \n",
              "\n",
              "   kids_pets  misc_pos  personal_care  \n",
              "0  -0.245928  3.976493      -0.268376  \n",
              "1  -0.245928 -0.251478      -0.268376  \n",
              "2  -0.245928 -0.251478      -0.268376  \n",
              "3  -0.245928 -0.251478      -0.268376  \n",
              "4  -0.245928 -0.251478      -0.268376  "
            ],
            "text/html": [
              "\n",
              "  <div id=\"df-e6f66c80-0517-41aa-8f2c-1aca7f269a46\">\n",
              "    <div class=\"colab-df-container\">\n",
              "      <div>\n",
              "<style scoped>\n",
              "    .dataframe tbody tr th:only-of-type {\n",
              "        vertical-align: middle;\n",
              "    }\n",
              "\n",
              "    .dataframe tbody tr th {\n",
              "        vertical-align: top;\n",
              "    }\n",
              "\n",
              "    .dataframe thead th {\n",
              "        text-align: right;\n",
              "    }\n",
              "</style>\n",
              "<table border=\"1\" class=\"dataframe\">\n",
              "  <thead>\n",
              "    <tr style=\"text-align: right;\">\n",
              "      <th></th>\n",
              "      <th>amt</th>\n",
              "      <th>gender</th>\n",
              "      <th>city_pop</th>\n",
              "      <th>Month</th>\n",
              "      <th>age</th>\n",
              "      <th>Year</th>\n",
              "      <th>home</th>\n",
              "      <th>kids_pets</th>\n",
              "      <th>misc_pos</th>\n",
              "      <th>personal_care</th>\n",
              "    </tr>\n",
              "  </thead>\n",
              "  <tbody>\n",
              "    <tr>\n",
              "      <th>0</th>\n",
              "      <td>-0.700951</td>\n",
              "      <td>1.159999</td>\n",
              "      <td>-0.285096</td>\n",
              "      <td>-0.776509</td>\n",
              "      <td>0.085307</td>\n",
              "      <td>-0.966382</td>\n",
              "      <td>-0.249434</td>\n",
              "      <td>-0.245928</td>\n",
              "      <td>3.976493</td>\n",
              "      <td>-0.268376</td>\n",
              "    </tr>\n",
              "    <tr>\n",
              "      <th>1</th>\n",
              "      <td>-0.666413</td>\n",
              "      <td>-0.862070</td>\n",
              "      <td>-0.293767</td>\n",
              "      <td>-0.471812</td>\n",
              "      <td>-0.647007</td>\n",
              "      <td>-0.966382</td>\n",
              "      <td>-0.249434</td>\n",
              "      <td>-0.245928</td>\n",
              "      <td>-0.251478</td>\n",
              "      <td>-0.268376</td>\n",
              "    </tr>\n",
              "    <tr>\n",
              "      <th>2</th>\n",
              "      <td>0.155265</td>\n",
              "      <td>-0.862070</td>\n",
              "      <td>-0.294433</td>\n",
              "      <td>0.137582</td>\n",
              "      <td>0.254303</td>\n",
              "      <td>-0.966382</td>\n",
              "      <td>-0.249434</td>\n",
              "      <td>-0.245928</td>\n",
              "      <td>-0.251478</td>\n",
              "      <td>-0.268376</td>\n",
              "    </tr>\n",
              "    <tr>\n",
              "      <th>3</th>\n",
              "      <td>-0.699323</td>\n",
              "      <td>1.159999</td>\n",
              "      <td>-0.271255</td>\n",
              "      <td>0.137582</td>\n",
              "      <td>0.648626</td>\n",
              "      <td>-0.966382</td>\n",
              "      <td>-0.249434</td>\n",
              "      <td>-0.245928</td>\n",
              "      <td>-0.251478</td>\n",
              "      <td>-0.268376</td>\n",
              "    </tr>\n",
              "    <tr>\n",
              "      <th>4</th>\n",
              "      <td>2.387784</td>\n",
              "      <td>1.159999</td>\n",
              "      <td>-0.292617</td>\n",
              "      <td>1.661068</td>\n",
              "      <td>-1.210326</td>\n",
              "      <td>1.034787</td>\n",
              "      <td>-0.249434</td>\n",
              "      <td>-0.245928</td>\n",
              "      <td>-0.251478</td>\n",
              "      <td>-0.268376</td>\n",
              "    </tr>\n",
              "  </tbody>\n",
              "</table>\n",
              "</div>\n",
              "      <button class=\"colab-df-convert\" onclick=\"convertToInteractive('df-e6f66c80-0517-41aa-8f2c-1aca7f269a46')\"\n",
              "              title=\"Convert this dataframe to an interactive table.\"\n",
              "              style=\"display:none;\">\n",
              "        \n",
              "  <svg xmlns=\"http://www.w3.org/2000/svg\" height=\"24px\"viewBox=\"0 0 24 24\"\n",
              "       width=\"24px\">\n",
              "    <path d=\"M0 0h24v24H0V0z\" fill=\"none\"/>\n",
              "    <path d=\"M18.56 5.44l.94 2.06.94-2.06 2.06-.94-2.06-.94-.94-2.06-.94 2.06-2.06.94zm-11 1L8.5 8.5l.94-2.06 2.06-.94-2.06-.94L8.5 2.5l-.94 2.06-2.06.94zm10 10l.94 2.06.94-2.06 2.06-.94-2.06-.94-.94-2.06-.94 2.06-2.06.94z\"/><path d=\"M17.41 7.96l-1.37-1.37c-.4-.4-.92-.59-1.43-.59-.52 0-1.04.2-1.43.59L10.3 9.45l-7.72 7.72c-.78.78-.78 2.05 0 2.83L4 21.41c.39.39.9.59 1.41.59.51 0 1.02-.2 1.41-.59l7.78-7.78 2.81-2.81c.8-.78.8-2.07 0-2.86zM5.41 20L4 18.59l7.72-7.72 1.47 1.35L5.41 20z\"/>\n",
              "  </svg>\n",
              "      </button>\n",
              "      \n",
              "  <style>\n",
              "    .colab-df-container {\n",
              "      display:flex;\n",
              "      flex-wrap:wrap;\n",
              "      gap: 12px;\n",
              "    }\n",
              "\n",
              "    .colab-df-convert {\n",
              "      background-color: #E8F0FE;\n",
              "      border: none;\n",
              "      border-radius: 50%;\n",
              "      cursor: pointer;\n",
              "      display: none;\n",
              "      fill: #1967D2;\n",
              "      height: 32px;\n",
              "      padding: 0 0 0 0;\n",
              "      width: 32px;\n",
              "    }\n",
              "\n",
              "    .colab-df-convert:hover {\n",
              "      background-color: #E2EBFA;\n",
              "      box-shadow: 0px 1px 2px rgba(60, 64, 67, 0.3), 0px 1px 3px 1px rgba(60, 64, 67, 0.15);\n",
              "      fill: #174EA6;\n",
              "    }\n",
              "\n",
              "    [theme=dark] .colab-df-convert {\n",
              "      background-color: #3B4455;\n",
              "      fill: #D2E3FC;\n",
              "    }\n",
              "\n",
              "    [theme=dark] .colab-df-convert:hover {\n",
              "      background-color: #434B5C;\n",
              "      box-shadow: 0px 1px 3px 1px rgba(0, 0, 0, 0.15);\n",
              "      filter: drop-shadow(0px 1px 2px rgba(0, 0, 0, 0.3));\n",
              "      fill: #FFFFFF;\n",
              "    }\n",
              "  </style>\n",
              "\n",
              "      <script>\n",
              "        const buttonEl =\n",
              "          document.querySelector('#df-e6f66c80-0517-41aa-8f2c-1aca7f269a46 button.colab-df-convert');\n",
              "        buttonEl.style.display =\n",
              "          google.colab.kernel.accessAllowed ? 'block' : 'none';\n",
              "\n",
              "        async function convertToInteractive(key) {\n",
              "          const element = document.querySelector('#df-e6f66c80-0517-41aa-8f2c-1aca7f269a46');\n",
              "          const dataTable =\n",
              "            await google.colab.kernel.invokeFunction('convertToInteractive',\n",
              "                                                     [key], {});\n",
              "          if (!dataTable) return;\n",
              "\n",
              "          const docLinkHtml = 'Like what you see? Visit the ' +\n",
              "            '<a target=\"_blank\" href=https://colab.research.google.com/notebooks/data_table.ipynb>data table notebook</a>'\n",
              "            + ' to learn more about interactive tables.';\n",
              "          element.innerHTML = '';\n",
              "          dataTable['output_type'] = 'display_data';\n",
              "          await google.colab.output.renderOutput(dataTable, element);\n",
              "          const docLink = document.createElement('div');\n",
              "          docLink.innerHTML = docLinkHtml;\n",
              "          element.appendChild(docLink);\n",
              "        }\n",
              "      </script>\n",
              "    </div>\n",
              "  </div>\n",
              "  "
            ]
          },
          "metadata": {},
          "execution_count": 71
        }
      ]
    },
    {
      "cell_type": "code",
      "source": [
        "logreg2 = LogisticRegression()"
      ],
      "metadata": {
        "id": "939ayDEDTf7j"
      },
      "execution_count": null,
      "outputs": []
    },
    {
      "cell_type": "code",
      "source": [
        "logreg2.fit(x_train_1,y_train)"
      ],
      "metadata": {
        "colab": {
          "base_uri": "https://localhost:8080/"
        },
        "id": "p59mpFrpTm3W",
        "outputId": "7b34008a-ea2a-487c-8e45-8d8bf98afd63"
      },
      "execution_count": null,
      "outputs": [
        {
          "output_type": "execute_result",
          "data": {
            "text/plain": [
              "LogisticRegression()"
            ]
          },
          "metadata": {},
          "execution_count": 73
        }
      ]
    },
    {
      "cell_type": "code",
      "source": [
        "print(\"overall model score for train data without any tuning in the model is {}\".format(logreg2.score(x_train_1,y_train)))\n",
        "print(\"-----------------------------------------------------------------------------------------\")\n",
        "print(\"overall model score for test data without any tuning in the model is {}\".format(logreg2.score(x_test_1,y_test)))\n",
        "print(\"-----------------------------------------------------------------------------------------\")"
      ],
      "metadata": {
        "colab": {
          "base_uri": "https://localhost:8080/"
        },
        "id": "Nbr8Lc7rTmzu",
        "outputId": "52c1a8fd-ff1f-4086-fa41-a75023144bbb"
      },
      "execution_count": null,
      "outputs": [
        {
          "output_type": "stream",
          "name": "stdout",
          "text": [
            "overall model score for train data without any tuning in the model is 0.890651917671593\n",
            "-----------------------------------------------------------------------------------------\n",
            "overall model score for test data without any tuning in the model is 0.8892783754381723\n",
            "-----------------------------------------------------------------------------------------\n"
          ]
        }
      ]
    },
    {
      "cell_type": "code",
      "source": [
        "y_train.value_counts()"
      ],
      "metadata": {
        "colab": {
          "base_uri": "https://localhost:8080/"
        },
        "id": "euq5KBfyTmxk",
        "outputId": "7d499d73-4d33-430f-a3f8-b41f6308d988"
      },
      "execution_count": null,
      "outputs": [
        {
          "output_type": "execute_result",
          "data": {
            "text/plain": [
              "1    5541\n",
              "0    5488\n",
              "Name: is_fraud, dtype: int64"
            ]
          },
          "metadata": {},
          "execution_count": 75
        }
      ]
    },
    {
      "cell_type": "code",
      "source": [
        "from statsmodels.stats.outliers_influence import variance_inflation_factor"
      ],
      "metadata": {
        "id": "twyXd8Yv9kcd"
      },
      "execution_count": null,
      "outputs": []
    },
    {
      "cell_type": "code",
      "source": [
        "vif = [variance_inflation_factor(x_train_1.values, i) for i in range(len(x_train_1.columns))]"
      ],
      "metadata": {
        "id": "01LL5XqN9lCP"
      },
      "execution_count": null,
      "outputs": []
    },
    {
      "cell_type": "code",
      "source": [
        "vif_data = pd.DataFrame({\"cols\":x_train_1.columns,\"VIF\":vif})"
      ],
      "metadata": {
        "id": "ZZDKYksA7MwE"
      },
      "execution_count": null,
      "outputs": []
    },
    {
      "cell_type": "code",
      "source": [
        "vif_data"
      ],
      "metadata": {
        "colab": {
          "base_uri": "https://localhost:8080/",
          "height": 363
        },
        "id": "M4KFWAoN-JJA",
        "outputId": "4715411d-b5aa-43bb-ab3a-90064ff095e4"
      },
      "execution_count": null,
      "outputs": [
        {
          "output_type": "execute_result",
          "data": {
            "text/plain": [
              "            cols       VIF\n",
              "0            amt  1.176496\n",
              "1         gender  1.052546\n",
              "2       city_pop  1.006393\n",
              "3          Month  1.004165\n",
              "4            age  1.044991\n",
              "5           Year  1.003749\n",
              "6           home  1.059643\n",
              "7      kids_pets  1.075894\n",
              "8       misc_pos  1.049920\n",
              "9  personal_care  1.077549"
            ],
            "text/html": [
              "\n",
              "  <div id=\"df-b632e190-96c3-49dd-8ffc-7a53d5071be5\">\n",
              "    <div class=\"colab-df-container\">\n",
              "      <div>\n",
              "<style scoped>\n",
              "    .dataframe tbody tr th:only-of-type {\n",
              "        vertical-align: middle;\n",
              "    }\n",
              "\n",
              "    .dataframe tbody tr th {\n",
              "        vertical-align: top;\n",
              "    }\n",
              "\n",
              "    .dataframe thead th {\n",
              "        text-align: right;\n",
              "    }\n",
              "</style>\n",
              "<table border=\"1\" class=\"dataframe\">\n",
              "  <thead>\n",
              "    <tr style=\"text-align: right;\">\n",
              "      <th></th>\n",
              "      <th>cols</th>\n",
              "      <th>VIF</th>\n",
              "    </tr>\n",
              "  </thead>\n",
              "  <tbody>\n",
              "    <tr>\n",
              "      <th>0</th>\n",
              "      <td>amt</td>\n",
              "      <td>1.176496</td>\n",
              "    </tr>\n",
              "    <tr>\n",
              "      <th>1</th>\n",
              "      <td>gender</td>\n",
              "      <td>1.052546</td>\n",
              "    </tr>\n",
              "    <tr>\n",
              "      <th>2</th>\n",
              "      <td>city_pop</td>\n",
              "      <td>1.006393</td>\n",
              "    </tr>\n",
              "    <tr>\n",
              "      <th>3</th>\n",
              "      <td>Month</td>\n",
              "      <td>1.004165</td>\n",
              "    </tr>\n",
              "    <tr>\n",
              "      <th>4</th>\n",
              "      <td>age</td>\n",
              "      <td>1.044991</td>\n",
              "    </tr>\n",
              "    <tr>\n",
              "      <th>5</th>\n",
              "      <td>Year</td>\n",
              "      <td>1.003749</td>\n",
              "    </tr>\n",
              "    <tr>\n",
              "      <th>6</th>\n",
              "      <td>home</td>\n",
              "      <td>1.059643</td>\n",
              "    </tr>\n",
              "    <tr>\n",
              "      <th>7</th>\n",
              "      <td>kids_pets</td>\n",
              "      <td>1.075894</td>\n",
              "    </tr>\n",
              "    <tr>\n",
              "      <th>8</th>\n",
              "      <td>misc_pos</td>\n",
              "      <td>1.049920</td>\n",
              "    </tr>\n",
              "    <tr>\n",
              "      <th>9</th>\n",
              "      <td>personal_care</td>\n",
              "      <td>1.077549</td>\n",
              "    </tr>\n",
              "  </tbody>\n",
              "</table>\n",
              "</div>\n",
              "      <button class=\"colab-df-convert\" onclick=\"convertToInteractive('df-b632e190-96c3-49dd-8ffc-7a53d5071be5')\"\n",
              "              title=\"Convert this dataframe to an interactive table.\"\n",
              "              style=\"display:none;\">\n",
              "        \n",
              "  <svg xmlns=\"http://www.w3.org/2000/svg\" height=\"24px\"viewBox=\"0 0 24 24\"\n",
              "       width=\"24px\">\n",
              "    <path d=\"M0 0h24v24H0V0z\" fill=\"none\"/>\n",
              "    <path d=\"M18.56 5.44l.94 2.06.94-2.06 2.06-.94-2.06-.94-.94-2.06-.94 2.06-2.06.94zm-11 1L8.5 8.5l.94-2.06 2.06-.94-2.06-.94L8.5 2.5l-.94 2.06-2.06.94zm10 10l.94 2.06.94-2.06 2.06-.94-2.06-.94-.94-2.06-.94 2.06-2.06.94z\"/><path d=\"M17.41 7.96l-1.37-1.37c-.4-.4-.92-.59-1.43-.59-.52 0-1.04.2-1.43.59L10.3 9.45l-7.72 7.72c-.78.78-.78 2.05 0 2.83L4 21.41c.39.39.9.59 1.41.59.51 0 1.02-.2 1.41-.59l7.78-7.78 2.81-2.81c.8-.78.8-2.07 0-2.86zM5.41 20L4 18.59l7.72-7.72 1.47 1.35L5.41 20z\"/>\n",
              "  </svg>\n",
              "      </button>\n",
              "      \n",
              "  <style>\n",
              "    .colab-df-container {\n",
              "      display:flex;\n",
              "      flex-wrap:wrap;\n",
              "      gap: 12px;\n",
              "    }\n",
              "\n",
              "    .colab-df-convert {\n",
              "      background-color: #E8F0FE;\n",
              "      border: none;\n",
              "      border-radius: 50%;\n",
              "      cursor: pointer;\n",
              "      display: none;\n",
              "      fill: #1967D2;\n",
              "      height: 32px;\n",
              "      padding: 0 0 0 0;\n",
              "      width: 32px;\n",
              "    }\n",
              "\n",
              "    .colab-df-convert:hover {\n",
              "      background-color: #E2EBFA;\n",
              "      box-shadow: 0px 1px 2px rgba(60, 64, 67, 0.3), 0px 1px 3px 1px rgba(60, 64, 67, 0.15);\n",
              "      fill: #174EA6;\n",
              "    }\n",
              "\n",
              "    [theme=dark] .colab-df-convert {\n",
              "      background-color: #3B4455;\n",
              "      fill: #D2E3FC;\n",
              "    }\n",
              "\n",
              "    [theme=dark] .colab-df-convert:hover {\n",
              "      background-color: #434B5C;\n",
              "      box-shadow: 0px 1px 3px 1px rgba(0, 0, 0, 0.15);\n",
              "      filter: drop-shadow(0px 1px 2px rgba(0, 0, 0, 0.3));\n",
              "      fill: #FFFFFF;\n",
              "    }\n",
              "  </style>\n",
              "\n",
              "      <script>\n",
              "        const buttonEl =\n",
              "          document.querySelector('#df-b632e190-96c3-49dd-8ffc-7a53d5071be5 button.colab-df-convert');\n",
              "        buttonEl.style.display =\n",
              "          google.colab.kernel.accessAllowed ? 'block' : 'none';\n",
              "\n",
              "        async function convertToInteractive(key) {\n",
              "          const element = document.querySelector('#df-b632e190-96c3-49dd-8ffc-7a53d5071be5');\n",
              "          const dataTable =\n",
              "            await google.colab.kernel.invokeFunction('convertToInteractive',\n",
              "                                                     [key], {});\n",
              "          if (!dataTable) return;\n",
              "\n",
              "          const docLinkHtml = 'Like what you see? Visit the ' +\n",
              "            '<a target=\"_blank\" href=https://colab.research.google.com/notebooks/data_table.ipynb>data table notebook</a>'\n",
              "            + ' to learn more about interactive tables.';\n",
              "          element.innerHTML = '';\n",
              "          dataTable['output_type'] = 'display_data';\n",
              "          await google.colab.output.renderOutput(dataTable, element);\n",
              "          const docLink = document.createElement('div');\n",
              "          docLink.innerHTML = docLinkHtml;\n",
              "          element.appendChild(docLink);\n",
              "        }\n",
              "      </script>\n",
              "    </div>\n",
              "  </div>\n",
              "  "
            ]
          },
          "metadata": {},
          "execution_count": 79
        }
      ]
    },
    {
      "cell_type": "markdown",
      "source": [
        "Lets check wether all different sets of validations give such good results or not."
      ],
      "metadata": {
        "id": "ywBl-jXyDn2Y"
      }
    },
    {
      "cell_type": "code",
      "source": [
        "y_pred_train = logreg2.predict(x_train_1)"
      ],
      "metadata": {
        "id": "AX1E9zAeVEpu"
      },
      "execution_count": null,
      "outputs": []
    },
    {
      "cell_type": "code",
      "source": [
        "y_pred_test = logreg2.predict(x_test_1)"
      ],
      "metadata": {
        "id": "tI1dVAA2Vix2"
      },
      "execution_count": null,
      "outputs": []
    },
    {
      "cell_type": "code",
      "source": [
        "from sklearn.metrics import classification_report,confusion_matrix"
      ],
      "metadata": {
        "id": "GE2XGO0IbsHm"
      },
      "execution_count": null,
      "outputs": []
    },
    {
      "cell_type": "code",
      "source": [
        "print(classification_report(y_train,y_pred_train))"
      ],
      "metadata": {
        "id": "88yqTCuvSLjR",
        "colab": {
          "base_uri": "https://localhost:8080/"
        },
        "outputId": "2fbb123d-2729-48b9-aea1-2bd24499012f"
      },
      "execution_count": null,
      "outputs": [
        {
          "output_type": "stream",
          "name": "stdout",
          "text": [
            "              precision    recall  f1-score   support\n",
            "\n",
            "           0       0.83      0.99      0.90      5488\n",
            "           1       0.99      0.79      0.88      5541\n",
            "\n",
            "    accuracy                           0.89     11029\n",
            "   macro avg       0.91      0.89      0.89     11029\n",
            "weighted avg       0.91      0.89      0.89     11029\n",
            "\n"
          ]
        }
      ]
    },
    {
      "cell_type": "markdown",
      "source": [
        "Classification report for test variables."
      ],
      "metadata": {
        "id": "nSlLcfw6Vo4b"
      }
    },
    {
      "cell_type": "code",
      "source": [
        "print(classification_report(y_test,y_pred_test))"
      ],
      "metadata": {
        "colab": {
          "base_uri": "https://localhost:8080/"
        },
        "id": "z2drmeOQVtoJ",
        "outputId": "32475ece-81ea-46af-8ced-179030b80e69"
      },
      "execution_count": null,
      "outputs": [
        {
          "output_type": "stream",
          "name": "stdout",
          "text": [
            "              precision    recall  f1-score   support\n",
            "\n",
            "           0       0.83      0.99      0.90      4163\n",
            "           1       0.98      0.79      0.88      4110\n",
            "\n",
            "    accuracy                           0.89      8273\n",
            "   macro avg       0.91      0.89      0.89      8273\n",
            "weighted avg       0.90      0.89      0.89      8273\n",
            "\n"
          ]
        }
      ]
    },
    {
      "cell_type": "markdown",
      "source": [
        "Lets create a statistical model and try to understand more about the data."
      ],
      "metadata": {
        "id": "AZOOT-XbADLi"
      }
    },
    {
      "cell_type": "markdown",
      "source": [
        "Now lets try ensamble model to check weter it improves the performance or not."
      ],
      "metadata": {
        "id": "my6ybJOzVYKE"
      }
    },
    {
      "cell_type": "markdown",
      "source": [
        "Creating Ensamble model \n",
        "## Random Forest."
      ],
      "metadata": {
        "id": "yTSY3JhnVdyb"
      }
    },
    {
      "cell_type": "code",
      "source": [
        "x_train_forest = x_train[x_train_1.columns]\n",
        "x_test_forest = x_test[x_test_1.columns]"
      ],
      "metadata": {
        "id": "jNrSXTaHWKHm"
      },
      "execution_count": null,
      "outputs": []
    },
    {
      "cell_type": "code",
      "source": [
        "from sklearn.ensemble import RandomForestRegressor\n",
        " \n",
        " # create regressor object\n",
        "regressor = RandomForestRegressor(n_estimators= 10,random_state=0)\n",
        " \n",
        "# fit the regressor with x and y data\n",
        "regressor.fit(x_train_forest, y_train) "
      ],
      "metadata": {
        "id": "rjmDef-pCazG",
        "colab": {
          "base_uri": "https://localhost:8080/"
        },
        "outputId": "2707b672-001b-429e-f294-3698f8a365ab"
      },
      "execution_count": null,
      "outputs": [
        {
          "output_type": "execute_result",
          "data": {
            "text/plain": [
              "RandomForestRegressor(n_estimators=10, random_state=0)"
            ]
          },
          "metadata": {},
          "execution_count": 86
        }
      ]
    },
    {
      "cell_type": "code",
      "source": [
        "Y_pred = regressor.predict(x_train_forest) "
      ],
      "metadata": {
        "id": "V2aUUDnTWdsc"
      },
      "execution_count": null,
      "outputs": []
    },
    {
      "cell_type": "code",
      "source": [
        "Result = pd.DataFrame({\"Original_result\":y_train,\"Predicted\":Y_pred})\n",
        "Result[\"Predicted\"] = Result[\"Predicted\"].apply(lambda x: 1 if x>0.5 else 0)"
      ],
      "metadata": {
        "id": "BPFKls8HaU6o"
      },
      "execution_count": null,
      "outputs": []
    },
    {
      "cell_type": "code",
      "source": [
        "print(classification_report(y_train,Result.Predicted))"
      ],
      "metadata": {
        "colab": {
          "base_uri": "https://localhost:8080/"
        },
        "id": "Msg1K1XSWpf6",
        "outputId": "0a5839b0-c2ce-4867-cb39-c770b8f4749c"
      },
      "execution_count": null,
      "outputs": [
        {
          "output_type": "stream",
          "name": "stdout",
          "text": [
            "              precision    recall  f1-score   support\n",
            "\n",
            "           0       0.98      1.00      0.99      5488\n",
            "           1       1.00      0.98      0.99      5541\n",
            "\n",
            "    accuracy                           0.99     11029\n",
            "   macro avg       0.99      0.99      0.99     11029\n",
            "weighted avg       0.99      0.99      0.99     11029\n",
            "\n"
          ]
        }
      ]
    },
    {
      "cell_type": "code",
      "source": [
        "conf_mat = confusion_matrix(y_train, Result.Predicted)\n",
        "print(conf_mat)"
      ],
      "metadata": {
        "id": "dO2rSvynbF58",
        "colab": {
          "base_uri": "https://localhost:8080/"
        },
        "outputId": "8d769b49-f7ff-4704-b8ba-7a28d2b9c2c9"
      },
      "execution_count": null,
      "outputs": [
        {
          "output_type": "stream",
          "name": "stdout",
          "text": [
            "[[5484    4]\n",
            " [  84 5457]]\n"
          ]
        }
      ]
    },
    {
      "cell_type": "markdown",
      "source": [
        "![confusion_metrix.jpg](data:image/jpeg;base64,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)"
      ],
      "metadata": {
        "id": "vOfS7FWt1kQ9"
      }
    },
    {
      "cell_type": "markdown",
      "source": [
        "## Cost Benefit Analysis."
      ],
      "metadata": {
        "id": "be6a4qN82bTK"
      }
    },
    {
      "cell_type": "code",
      "source": [
        "df = x_train_df"
      ],
      "metadata": {
        "id": "GqRkrKh62IVS"
      },
      "execution_count": null,
      "outputs": []
    },
    {
      "cell_type": "code",
      "source": [
        "df[\"Month\"] = pd.to_datetime(df.trans_date_trans_time).dt.month"
      ],
      "metadata": {
        "id": "vT9rGiMU4TH6"
      },
      "execution_count": null,
      "outputs": []
    },
    {
      "cell_type": "code",
      "source": [
        "df[\"Year\"] = pd.to_datetime(df.trans_date_trans_time).dt.year"
      ],
      "metadata": {
        "id": "mUiDW2Nt4jAi"
      },
      "execution_count": null,
      "outputs": []
    },
    {
      "cell_type": "code",
      "source": [
        "df.groupby([\"Year\",\"Month\"])[\"amt\"].mean()"
      ],
      "metadata": {
        "colab": {
          "base_uri": "https://localhost:8080/"
        },
        "id": "5XmWIvpZ7CGN",
        "outputId": "61e1a289-a819-448f-e351-e93fb21bc3bd"
      },
      "execution_count": null,
      "outputs": [
        {
          "output_type": "execute_result",
          "data": {
            "text/plain": [
              "Year  Month\n",
              "2019  1        71.580200\n",
              "      2        72.286974\n",
              "      3        70.876195\n",
              "      4        69.941899\n",
              "      5        69.774766\n",
              "      6        70.138472\n",
              "      7        69.795680\n",
              "      8        69.223419\n",
              "      9        70.059367\n",
              "      10       70.555679\n",
              "      11       69.911711\n",
              "      12       70.311776\n",
              "2020  1        70.170961\n",
              "      2        70.514198\n",
              "      3        70.859521\n",
              "      4        70.132898\n",
              "      5        70.538407\n",
              "      6        71.120314\n",
              "Name: amt, dtype: float64"
            ]
          },
          "metadata": {},
          "execution_count": 123
        }
      ]
    },
    {
      "cell_type": "markdown",
      "source": [
        "Average amount spent in every month is almost same."
      ],
      "metadata": {
        "id": "_aCuPGD07-QB"
      }
    },
    {
      "cell_type": "markdown",
      "source": [
        "## Section 1- questions."
      ],
      "metadata": {
        "id": "zrH9aNpX89tL"
      }
    },
    {
      "cell_type": "markdown",
      "source": [
        "### Q1. Average number of transactions per month?"
      ],
      "metadata": {
        "id": "M8Wz2Svj3BAZ"
      }
    },
    {
      "cell_type": "code",
      "source": [
        "avg_month_trans = df.shape[0]/24\n",
        "print(\"Average number of transactions per month are {}.\".format(int(avg_month_trans)))"
      ],
      "metadata": {
        "colab": {
          "base_uri": "https://localhost:8080/"
        },
        "id": "Y_WmCjh4275C",
        "outputId": "3dda69df-4a6e-4330-d4d4-3544143033dc"
      },
      "execution_count": null,
      "outputs": [
        {
          "output_type": "stream",
          "name": "stdout",
          "text": [
            "Average number of transactions per month are 54028.\n"
          ]
        }
      ]
    },
    {
      "cell_type": "markdown",
      "source": [
        "### Q2. Average number of fraudulent transaction per month?"
      ],
      "metadata": {
        "id": "aYv_6dsx3Z0n"
      }
    },
    {
      "cell_type": "code",
      "source": [
        "condition = df.is_fraud==1\n",
        "df_fraud = df[condition]\n",
        "avg_fraud_trans = df_fraud.shape[0]/24\n",
        "print(\"Average number of fraudulent transactions per month are {}.\".format(int(avg_fraud_trans)))"
      ],
      "metadata": {
        "colab": {
          "base_uri": "https://localhost:8080/"
        },
        "id": "DWGixiU53RWG",
        "outputId": "f87d9574-7c45-4326-a340-f72da6b4d384"
      },
      "execution_count": null,
      "outputs": [
        {
          "output_type": "stream",
          "name": "stdout",
          "text": [
            "Average number of fraudulent transactions per month are 312.\n"
          ]
        }
      ]
    },
    {
      "cell_type": "markdown",
      "source": [
        "### Q3. Average amount per fraud transaction?"
      ],
      "metadata": {
        "id": "khHAX1KH8KGP"
      }
    },
    {
      "cell_type": "code",
      "source": [
        "total_fraud_count = df_fraud.shape[0]"
      ],
      "metadata": {
        "id": "hMaikgwZ3zCz"
      },
      "execution_count": null,
      "outputs": []
    },
    {
      "cell_type": "code",
      "source": [
        "avg_amt_fraud_trans = df_fraud.amt.sum()/total_fraud_count\n",
        "print(\"Average amount per fraud transaction is {}\".format(int(avg_amt_fraud_trans)))"
      ],
      "metadata": {
        "colab": {
          "base_uri": "https://localhost:8080/"
        },
        "id": "io7BbdRt8U2Z",
        "outputId": "01642259-1387-49e8-ea3d-1d3e058df57e"
      },
      "execution_count": null,
      "outputs": [
        {
          "output_type": "stream",
          "name": "stdout",
          "text": [
            "Average amount per fraud transaction is 531\n"
          ]
        }
      ]
    },
    {
      "cell_type": "markdown",
      "source": [
        "## Section 2- Questions."
      ],
      "metadata": {
        "id": "miDrwb2N9BQg"
      }
    },
    {
      "cell_type": "markdown",
      "source": [
        "### Q1. Cost incurred per month before the model was deployed (b*c)?"
      ],
      "metadata": {
        "id": "8ufyAN7d9MV_"
      }
    },
    {
      "cell_type": "markdown",
      "source": [
        "Cost incurred per month before the model was deployed = Average amount per fraudulent transaction * Average number of fraudulent transactions per month."
      ],
      "metadata": {
        "id": "p-z64iT69TQz"
      }
    },
    {
      "cell_type": "code",
      "source": [
        "incurred_cost_bm = avg_amt_fraud_trans*avg_fraud_trans\n",
        "print(\"Cost incurred per month before the model was deployed {}\".format(int(incurred_cost_bm)))"
      ],
      "metadata": {
        "colab": {
          "base_uri": "https://localhost:8080/"
        },
        "id": "eJlngK8k81CK",
        "outputId": "d5089fa1-42a0-4253-be75-dbb9ada4799e"
      },
      "execution_count": null,
      "outputs": [
        {
          "output_type": "stream",
          "name": "stdout",
          "text": [
            "Cost incurred per month before the model was deployed 166170\n"
          ]
        }
      ]
    },
    {
      "cell_type": "markdown",
      "source": [
        "### Q2. Average number of transactions per month detected as fraudulent by the model (TF)?"
      ],
      "metadata": {
        "id": "5RsjzkRq-QPa"
      }
    },
    {
      "cell_type": "code",
      "source": [
        "TF = conf_mat[0][0]/24\n",
        "print(\"Average number of transactions per month detected as fraudulent by the model (TF) {}.\".format(TF))"
      ],
      "metadata": {
        "colab": {
          "base_uri": "https://localhost:8080/"
        },
        "id": "a_ZjqF1q-Jk_",
        "outputId": "110d21b0-68c2-4946-b187-0228f64268f2"
      },
      "execution_count": null,
      "outputs": [
        {
          "output_type": "stream",
          "name": "stdout",
          "text": [
            "Average number of transactions per month detected as fraudulent by the model (TF) 228.5.\n"
          ]
        }
      ]
    },
    {
      "cell_type": "markdown",
      "source": [
        "### Q3. Cost of providing customer executive support per fraudulent transaction detected by the model?"
      ],
      "metadata": {
        "id": "5Yr_GsBH_K33"
      }
    },
    {
      "cell_type": "markdown",
      "source": [
        "Ans: - 1.5$ is the cost of porviding cutomer executive support per fraudulent transaction detected by the model."
      ],
      "metadata": {
        "id": "RtSmjNMz_STM"
      }
    },
    {
      "cell_type": "markdown",
      "source": [
        "### Q4. Total cost of providing customer support per month for fraudulent transactions detected by the model (TF*$1.5)?"
      ],
      "metadata": {
        "id": "nxqkRMHG_bW6"
      }
    },
    {
      "cell_type": "code",
      "source": [
        "support_cost = 1.5*TF\n",
        "print(\"Total cost of providing customer support per month for fraudulent transactions detected by the model {}\".format(support_cost))"
      ],
      "metadata": {
        "colab": {
          "base_uri": "https://localhost:8080/"
        },
        "id": "thn40RLa-8SH",
        "outputId": "b40ff9fb-f5a2-4472-ec74-d098f4745e6d"
      },
      "execution_count": null,
      "outputs": [
        {
          "output_type": "stream",
          "name": "stdout",
          "text": [
            "Total cost of providing customer support per month for fraudulent transactions detected by the model 342.75\n"
          ]
        }
      ]
    },
    {
      "cell_type": "markdown",
      "source": [
        "### Q5. Average number of transactions per month that are fraudulent but not detected by the model (FN)?"
      ],
      "metadata": {
        "id": "VwrZV-oh_xTE"
      }
    },
    {
      "cell_type": "code",
      "source": [
        "FN = conf_mat[0][1]/24\n",
        "print(\"Average number of transactions per month that are fraudulent but not detected by the model (FN) {}\".format(FN))"
      ],
      "metadata": {
        "colab": {
          "base_uri": "https://localhost:8080/"
        },
        "id": "C1hbinzE-9Kh",
        "outputId": "1957f6aa-42b6-4301-a9ad-602eb04170d9"
      },
      "execution_count": null,
      "outputs": [
        {
          "output_type": "stream",
          "name": "stdout",
          "text": [
            "Average number of transactions per month that are fraudulent but not detected by the model (FN) 0.16666666666666666\n"
          ]
        }
      ]
    },
    {
      "cell_type": "markdown",
      "source": [
        "### Q6. Cost incurred due to fraudulent transactions left undetected by the model (FN*c)?"
      ],
      "metadata": {
        "id": "8Hj6HIPkA8hb"
      }
    },
    {
      "cell_type": "code",
      "source": [
        "cost_fn = avg_amt_fraud_trans*FN\n",
        "print(\"Cost incurred due to fraudulent transactions left undetected by the model (FN*c) {}\".format(avg_amt_fraud_trans*FN))"
      ],
      "metadata": {
        "colab": {
          "base_uri": "https://localhost:8080/"
        },
        "id": "yufLO583_5K0",
        "outputId": "025019e1-f72e-417a-ec65-d92194c20edc"
      },
      "execution_count": null,
      "outputs": [
        {
          "output_type": "stream",
          "name": "stdout",
          "text": [
            "Cost incurred due to fraudulent transactions left undetected by the model (FN*c) 88.5533486544098\n"
          ]
        }
      ]
    },
    {
      "cell_type": "markdown",
      "source": [
        "### Q7. Cost incurred per month after the model is built and deployed?"
      ],
      "metadata": {
        "id": "UjIDMiCIBtn9"
      }
    },
    {
      "cell_type": "code",
      "source": [
        "x_train_1.columns"
      ],
      "metadata": {
        "colab": {
          "base_uri": "https://localhost:8080/"
        },
        "id": "b6b_rPBSIZq6",
        "outputId": "a0a95479-4c75-49d2-e67b-bd0556b5bac4"
      },
      "execution_count": null,
      "outputs": [
        {
          "output_type": "execute_result",
          "data": {
            "text/plain": [
              "Index(['amt', 'gender', 'city_pop', 'Month', 'age', 'Year', 'home',\n",
              "       'kids_pets', 'misc_pos', 'personal_care'],\n",
              "      dtype='object')"
            ]
          },
          "metadata": {},
          "execution_count": 149
        }
      ]
    },
    {
      "cell_type": "code",
      "source": [
        " print(\"Cost incurred per month after the model is built and deployed {}\".format(support_cost+cost_fn))"
      ],
      "metadata": {
        "colab": {
          "base_uri": "https://localhost:8080/"
        },
        "id": "TyaflWpBBhLp",
        "outputId": "fca39a0a-1876-43ad-8e2a-97781665e691"
      },
      "execution_count": null,
      "outputs": [
        {
          "output_type": "stream",
          "name": "stdout",
          "text": [
            "Cost incurred per month after the model is built and deployed 431.3033486544098\n"
          ]
        }
      ]
    }
  ]
}